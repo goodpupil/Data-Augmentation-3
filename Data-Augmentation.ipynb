{
 "cells": [
  {
   "cell_type": "markdown",
   "metadata": {},
   "source": [
    "# Data Augmentation for brain tumor segmentation\n",
    "\n",
    "## Qimin Zhang and Weiwei Qi"
   ]
  },
  {
   "cell_type": "markdown",
   "metadata": {},
   "source": [
    "## 1. Config"
   ]
  },
  {
   "cell_type": "code",
   "execution_count": 61,
   "metadata": {},
   "outputs": [
    {
     "name": "stdout",
     "output_type": "stream",
     "text": [
      "TorchIO version: 0.14.1\n"
     ]
    }
   ],
   "source": [
    "import os\n",
    "import copy\n",
    "import enum\n",
    "from time import time\n",
    "import random\n",
    "import warnings\n",
    "import tempfile\n",
    "import subprocess\n",
    "import multiprocessing\n",
    "from pathlib import Path\n",
    "\n",
    "import torch\n",
    "from torch import nn\n",
    "import torch.nn.functional as F\n",
    "import torch.optim as optim\n",
    "from torchvision.transforms import Compose\n",
    "from torchvision.utils import make_grid, save_image\n",
    "import torchvision.transforms as transforms\n",
    "import torchvision.transforms.functional as TF\n",
    "\n",
    "from glob import glob\n",
    "import pickle\n",
    "warnings.filterwarnings('ignore')\n",
    "\n",
    "import torchio\n",
    "from torchio import AFFINE, DATA, PATH, TYPE, STEM\n",
    "\n",
    "from torch.utils.data import Dataset, SubsetRandomSampler\n",
    "\n",
    "import numpy as np\n",
    "import nibabel as nib\n",
    "from scipy import stats\n",
    "import SimpleITK as sitk\n",
    "import matplotlib.pyplot as plt\n",
    "\n",
    "from IPython import display\n",
    "from tqdm.notebook import tqdm\n",
    "\n",
    "print('TorchIO version:', torchio.__version__)\n",
    "\n",
    "training_split_ratio = 0.9\n",
    "num_epochs = 5\n",
    "compute_histograms = False\n",
    "train_whole_images = False\n",
    "train_patches = False\n",
    "\n",
    "seed = 4460\n",
    "torch.manual_seed(4460)\n",
    "np.random.seed(4460)"
   ]
  },
  {
   "cell_type": "code",
   "execution_count": 3,
   "metadata": {},
   "outputs": [
    {
     "name": "stdout",
     "output_type": "stream",
     "text": [
      "Computation Details\n",
      "\tDevice Used: (cuda)  Tesla K80\n",
      "\n",
      "Packages Used Versions:-\n",
      "\tPytorch Version: 1.4.0\n"
     ]
    }
   ],
   "source": [
    "device = torch.device('cuda' if torch.cuda.is_available() else 'cpu')\n",
    "\n",
    "print('Computation Details')\n",
    "print(f'\\tDevice Used: ({device})  {torch.cuda.get_device_name(torch.cuda.current_device())}\\n')\n",
    "\n",
    "print('Packages Used Versions:-')\n",
    "print(f'\\tPytorch Version: {torch.__version__}')"
   ]
  },
  {
   "cell_type": "markdown",
   "metadata": {},
   "source": [
    "## 2. Train a U-Net with original data"
   ]
  },
  {
   "cell_type": "code",
   "execution_count": 90,
   "metadata": {},
   "outputs": [],
   "source": [
    "# Dataset folder used\n",
    "DATASET_PATH = os.path.join('./data')\n",
    "\n",
    "# We would like to perform a train-validation-test split at the ratio of T:V:T = 6:2:2.\n",
    "VAL_SPLIT = 0.1\n",
    "TEST_SPLIT = 0.1\n",
    "\n",
    "# Batch size for training. Limited by GPU memory\n",
    "BATCH_SIZE = 6\n",
    "# Training Epochs\n",
    "epochs = 80"
   ]
  },
  {
   "cell_type": "code",
   "execution_count": 71,
   "metadata": {},
   "outputs": [
    {
     "name": "stdout",
     "output_type": "stream",
     "text": [
      "./data/all_gbm_pre_reg/BraTS19_2013_0_1_t1reg.nii.gz\n",
      "./data/all_tumors_reg/BraTS19_2013_0_1_seg_reg.nii.gz\n"
     ]
    }
   ],
   "source": [
    "print(sorted(glob(\"./data/all_gbm_pre_reg/*_t1reg.nii.gz\"))[0])\n",
    "print(sorted(glob(\"./data/all_tumors_reg/*_seg_reg.nii.gz\"))[0])"
   ]
  },
  {
   "cell_type": "code",
   "execution_count": 91,
   "metadata": {},
   "outputs": [],
   "source": [
    "class TumorDataset(Dataset):\n",
    "    '''\n",
    "    Returns a TumorDataset class object which represents our tumor dataset.\n",
    "    TumorDataset inherits from torch.utils.data.Dataset class.\n",
    "    '''\n",
    "\n",
    "    def __init__(self, root_dir, DEBUG = False):\n",
    "        '''\n",
    "        Constructor for our TumorDataset class.\n",
    "        Parameters:\n",
    "            root_dir(str): Directory with all the images.\n",
    "            DEBUG(bool): To switch to debug mode for image transformation.\n",
    "\n",
    "        Returns: None\n",
    "        '''\n",
    "        self.root_dir = root_dir\n",
    "        # The default transformation is composed of \n",
    "        # 1) a grayscale conversion.\n",
    "        self.default_transformation = transforms.Compose([\n",
    "            transforms.Grayscale()\n",
    "        ])\n",
    "        self.DEBUG = DEBUG\n",
    "\n",
    "    def __getitem__(self, index):\n",
    "        '''\n",
    "        Overridden method from inheritted class to support\n",
    "        indexing of dataset such that datset[I] can be used\n",
    "        to get Ith sample.\n",
    "        Parameters:\n",
    "            index(int): Index of the dataset sample\n",
    "            \n",
    "        Return:\n",
    "            sample(dict): Contains the index, image, mask torch.Tensor.\n",
    "                        'index': Index of the image.\n",
    "                        'image': Contains the tumor image torch.Tensor.\n",
    "                        'mask' : Contains the mask image torch.Tensor.\n",
    "        '''\n",
    "        # Find the filenames for the tumor images and masks.\n",
    "        image_path = os.path.join(self.root_dir, \"all_gbm_pre_reg\")\n",
    "        tumor_path = os.path.join(self.root_dir, \"all_tumors_reg\")\n",
    "        \n",
    "        image_name = sorted(glob(os.path.join(image_path, \"*t1reg.nii.gz\")))[index]\n",
    "        mask_name = sorted(glob(os.path.join(tumor_path, \"*seg_reg.nii.gz\")))[index]\n",
    "\n",
    "        # Use nibabel to open the images and masks.\n",
    "        image = nib.load(image_name).get_fdata()\n",
    "        mask = nib.load(mask_name).get_fdata()\n",
    "\n",
    "        # Apply the default transformations on the images and masks.\n",
    "        #image = self.default_transformation(image)\n",
    "        #mask = self.default_transformation(mask)\n",
    "\n",
    "        # Convert the images and masks to tensor.\n",
    "        image = TF.to_tensor(image)\n",
    "        mask = TF.to_tensor(mask)\n",
    "        \n",
    "        # Construct the images and masks together in the form of a dictionary.\n",
    "        sample = {'index': index, 'image': image, 'mask': mask}\n",
    "        return sample\n",
    "\n",
    "    def __len__(self):\n",
    "        '''Overridden method from inheritted class so that\n",
    "        len(self) returns the size of the dataset.\n",
    "        '''\n",
    "        error_msg = 'Part of dataset is missing!\\nNumber of tumor and mask images are not same.'\n",
    "        total_image_files = len(glob(os.path.join(self.root_dir, 'all_gbm_pre_reg', '*t1reg.nii.gz')))\n",
    "        total_tumor_files = len(glob(os.path.join(self.root_dir, 'all_tumors_reg', '*seg_reg.nii.gz')))\n",
    "\n",
    "        # Sanity check: the number of files shall be even since tumor images and masks are in pairs.\n",
    "        assert total_image_files == total_tumor_files, error_msg\n",
    "        \n",
    "        # Return how many image-mask pairs we have.\n",
    "        return total_image_files"
   ]
  },
  {
   "cell_type": "code",
   "execution_count": 92,
   "metadata": {},
   "outputs": [],
   "source": [
    "def get_indices(length, val_split, test_split):\n",
    "    '''\n",
    "    Gets the Training & Testing data indices for the dataset.\n",
    "    Stores the indices and returns them back when the same dataset is used.\n",
    "    Inputs:\n",
    "        length(int): Length of the dataset used.\n",
    "        val_split: the portion (0 to 1) of data used for validation.\n",
    "        test_split: the portion (0 to 1) of data used for testing.\n",
    "    Parameters:\n",
    "        train_indices(list): Array of indices used for training purpose.\n",
    "        validation_indices(list): Array of indices used for validation purpose.\n",
    "        test_indices(list): Array of indices used for testing purpose.\n",
    "    '''\n",
    "    data = dict()\n",
    "    indices = list(range(length))\n",
    "    np.random.shuffle(indices)\n",
    "    split1 = int(np.floor(test_split * len(tumor_dataset)))\n",
    "    split2 = split1 + int(np.floor(val_split * len(tumor_dataset)))\n",
    "    train_indices, validation_indices, test_indices = indices[split2:], indices[split1:split2], indices[:split1]\n",
    "    return train_indices, validation_indices, test_indices"
   ]
  },
  {
   "cell_type": "code",
   "execution_count": 93,
   "metadata": {},
   "outputs": [
    {
     "name": "stdout",
     "output_type": "stream",
     "text": [
      "Number of files in the train set: 269 \n",
      "Number of files in the validation set: 33 \n",
      "Number of files in the test set: 33\n"
     ]
    }
   ],
   "source": [
    "tumor_dataset = TumorDataset(DATASET_PATH)\n",
    "\n",
    "train_indices, validation_indices, test_indices = get_indices(len(tumor_dataset), val_split = VAL_SPLIT, test_split = TEST_SPLIT)\n",
    "train_sampler, validation_sampler, test_sampler = SubsetRandomSampler(train_indices), SubsetRandomSampler(validation_indices), SubsetRandomSampler(test_indices)\n",
    "\n",
    "trainloader = torch.utils.data.DataLoader(tumor_dataset, BATCH_SIZE, sampler = train_sampler)\n",
    "validationloader = torch.utils.data.DataLoader(tumor_dataset, 1, sampler = validation_sampler)\n",
    "testloader = torch.utils.data.DataLoader(tumor_dataset, 1, sampler = test_sampler)\n",
    "\n",
    "print('Number of files in the train set: %s \\nNumber of files in the validation set: %s \\nNumber of files in the test set: %s' \\\n",
    "      % (len(train_indices), len(validation_indices), len(test_indices)))"
   ]
  },
  {
   "cell_type": "code",
   "execution_count": 75,
   "metadata": {},
   "outputs": [
    {
     "name": "stdout",
     "output_type": "stream",
     "text": [
      "torch.Size([155, 240, 240])\n",
      "torch.Size([155, 240, 240])\n"
     ]
    }
   ],
   "source": [
    "print(tumor_dataset.__getitem__(0)['image'].size())\n",
    "print(tumor_dataset.__getitem__(0)['mask'].size())"
   ]
  },
  {
   "cell_type": "code",
   "execution_count": 94,
   "metadata": {},
   "outputs": [],
   "source": [
    "class conv_block(nn.Module):\n",
    "    def __init__(self, ch_in, ch_out):\n",
    "        super(conv_block, self).__init__()\n",
    "        self.conv = nn.Sequential(\n",
    "            nn.Conv2d(ch_in, ch_out, kernel_size = 3, stride = 1, padding = 1, bias = True),\n",
    "            nn.ReLU(inplace = True),\n",
    "            nn.Conv2d(ch_out, ch_out, kernel_size = 3, stride = 1, padding = 1, bias = True),\n",
    "            nn.ReLU(inplace = True)\n",
    "        )\n",
    "\n",
    "    def forward(self,x):\n",
    "        x = self.conv(x)\n",
    "        return x\n",
    "\n",
    "class up_conv(nn.Module):\n",
    "    def __init__(self, ch_in, ch_out):\n",
    "        super(up_conv, self).__init__()\n",
    "        self.up = nn.Sequential(\n",
    "            nn.Upsample(scale_factor = 2),\n",
    "            nn.Conv2d(ch_in, ch_out, kernel_size = 3, stride = 1, padding = 1, bias = True),\n",
    "            nn.ReLU(inplace = True)\n",
    "        )\n",
    "\n",
    "    def forward(self,x):\n",
    "        x = self.up(x)\n",
    "        return x\n",
    "    \n",
    "class U_Net(nn.Module):\n",
    "    '''\n",
    "    This is the Pytorch version of U-Net Architecture.\n",
    "\n",
    "    The input and output of this network is of the same shape.\n",
    "    Input Size of Network - (155,240,240). \n",
    "        Note that the input size here is just for our dataset in this notebook, but if you use this network for other projects, any input size that is a multiple of 2 ** 5 will work.\n",
    "    Output Size of Network - (155,240,240).\n",
    "        Shape Format :  (Channel, Width, Height)\n",
    "    '''\n",
    "    def __init__(self, img_ch = 155, output_ch = 155, first_layer_numKernel = 256):\n",
    "        '''\n",
    "        Constructor for UNet class.\n",
    "        Parameters:\n",
    "            img_ch(int): Input channels for the network. Default: 1\n",
    "            output_ch(int): Output channels for the final network. Default: 1\n",
    "            first_layer_numKernel(int): Number of kernels uses in the first layer of our unet.\n",
    "        '''\n",
    "        super(U_Net, self).__init__()\n",
    "        \n",
    "        self.Maxpool = nn.MaxPool2d(kernel_size = 2, stride = 2)\n",
    "\n",
    "        self.Conv1 = conv_block(ch_in = img_ch, ch_out = first_layer_numKernel)\n",
    "        self.Conv2 = conv_block(ch_in = first_layer_numKernel, ch_out = 2 * first_layer_numKernel)\n",
    "        self.Conv3 = conv_block(ch_in = 2 * first_layer_numKernel, ch_out = 4 * first_layer_numKernel)\n",
    "        self.Conv4 = conv_block(ch_in = 4 * first_layer_numKernel, ch_out = 8 * first_layer_numKernel)\n",
    "        self.Conv5 = conv_block(ch_in = 8 * first_layer_numKernel, ch_out = 16 * first_layer_numKernel)\n",
    "\n",
    "        self.Up5 = up_conv(ch_in = 16 * first_layer_numKernel, ch_out = 8 * first_layer_numKernel)\n",
    "        self.Up_conv5 = conv_block(ch_in = 16 * first_layer_numKernel, ch_out = 8 * first_layer_numKernel)\n",
    "\n",
    "        self.Up4 = up_conv(ch_in = 8 * first_layer_numKernel, ch_out = 4 * first_layer_numKernel)\n",
    "        self.Up_conv4 = conv_block(ch_in = 8 * first_layer_numKernel, ch_out = 4 * first_layer_numKernel)\n",
    "        self.Up3 = up_conv(ch_in = 4 * first_layer_numKernel, ch_out = 2 * first_layer_numKernel)\n",
    "        self.Up_conv3 = conv_block(ch_in = 4 * first_layer_numKernel, ch_out = 2 * first_layer_numKernel)\n",
    "        \n",
    "        self.Up2 = up_conv(ch_in = 2 * first_layer_numKernel, ch_out = first_layer_numKernel)\n",
    "        self.Up_conv2 = conv_block(ch_in = 2 * first_layer_numKernel, ch_out = first_layer_numKernel)\n",
    "\n",
    "        self.Conv_1x1 = nn.Conv2d(first_layer_numKernel, output_ch, kernel_size = 1, stride = 1, padding = 0)\n",
    "\n",
    "    def forward(self, x):\n",
    "        '''\n",
    "        Method for forward propagation in the network.\n",
    "        Parameters:\n",
    "            x(torch.Tensor): Input for the network of size (155, 240, 240).\n",
    "\n",
    "        Returns:\n",
    "            output(torch.Tensor): Output after the forward propagation \n",
    "                                    of network on the input.\n",
    "        '''\n",
    "        # encoding path\n",
    "        x1 = self.Conv1(x)\n",
    "\n",
    "        x2 = self.Maxpool(x1)\n",
    "        x2 = self.Conv2(x2)\n",
    "        \n",
    "        x3 = self.Maxpool(x2)\n",
    "        x3 = self.Conv3(x3)\n",
    "        \n",
    "        x4 = self.Maxpool(x3)\n",
    "        x4 = self.Conv4(x4)\n",
    "\n",
    "        x5 = self.Maxpool(x4)\n",
    "        x5 = self.Conv5(x5)\n",
    "        \n",
    "        # decoding + concat path\n",
    "        d5 = self.Up5(x5)\n",
    "        d5 = torch.cat((x4, d5), dim = 1)\n",
    "        \n",
    "        d5 = self.Up_conv5(d5)\n",
    "        \n",
    "        d4 = self.Up4(d5)\n",
    "        d4 = torch.cat((x3, d4), dim = 1)\n",
    "        d4 = self.Up_conv4(d4)\n",
    "\n",
    "        d3 = self.Up3(d4)\n",
    "        d3 = torch.cat((x2, d3), dim = 1)\n",
    "        d3 = self.Up_conv3(d3)\n",
    "\n",
    "        d2 = self.Up2(d3)\n",
    "        d2 = torch.cat((x1, d2), dim = 1)\n",
    "        d2 = self.Up_conv2(d2)\n",
    "\n",
    "        d1 = self.Conv_1x1(d2)\n",
    "        output = F.sigmoid(d1)\n",
    "\n",
    "        return output"
   ]
  },
  {
   "cell_type": "code",
   "execution_count": 95,
   "metadata": {},
   "outputs": [],
   "source": [
    "def dice_coefficient(predicted, target):\n",
    "    '''\n",
    "    Calculates the Sørensen–Dice Coefficient for a single sample.\n",
    "    Parameters:\n",
    "        predicted(numpy.ndarray): Predicted single output of the network.\n",
    "                                Shape - (Channel, Height, Width)\n",
    "        target(numpy.ndarray): Actual required single output for the network\n",
    "                                Shape - (Channel, Height, Width)\n",
    "\n",
    "    Returns:\n",
    "        coefficient(float): Dice coefficient for the input sample.\n",
    "                                    1 represents highest similarity and\n",
    "                                    0 represents lowest similarity.\n",
    "    '''\n",
    "    # The smooth term is used to prevent division by zero.\n",
    "    smooth = 1\n",
    "    product = np.multiply(predicted, target)\n",
    "    intersection = np.sum(product)\n",
    "    coefficient = (2 * intersection + smooth) / (np.sum(predicted) + np.sum(target) + smooth)\n",
    "    return coefficient"
   ]
  },
  {
   "cell_type": "code",
   "execution_count": 96,
   "metadata": {},
   "outputs": [],
   "source": [
    "unet_classifier = None\n",
    "criterion = nn.BCELoss()\n",
    "learning_rate = 0.0001\n",
    "\n",
    "#### If you want to see the training trend within each epoch, you can change mini_batch to a positive integer \n",
    "#### that is no larger than the number of batches per epoch.\n",
    "mini_batch = False\n",
    "\n",
    "# Define where to save the model parameters.\n",
    "model_save_path = './saved_models/'\n",
    "os.makedirs(model_save_path, exist_ok = True)\n",
    "\n",
    "# New model is created.\n",
    "unet_model = U_Net().to(device)\n",
    "\n",
    "#### You can uncomment this to see the textual architecture of our U-Net.\n",
    "#print(unet_model)"
   ]
  },
  {
   "cell_type": "code",
   "execution_count": 97,
   "metadata": {},
   "outputs": [
    {
     "name": "stdout",
     "output_type": "stream",
     "text": [
      "Starting Training Process\n",
      "Epoch:   1,  train Loss: 0.09605,  validation Loss: 0.39224,  validation score: 0.08358,  current lr:  0.0001 , Time: 357.48 s\tBest model saved at score: 0.08358\n",
      "Epoch:   2,  train Loss: 0.02621,  validation Loss: 0.11081,  validation score: 0.05016,  current lr:  0.0001 , Time: 356.25 s\n",
      "Epoch:   3,  train Loss: 0.01437,  validation Loss: 0.10405,  validation score: 0.00044,  current lr:  0.0001 , Time: 355.83 s\n",
      "Epoch:   4,  train Loss: 0.01321,  validation Loss: 0.09724,  validation score: 0.00612,  current lr:  0.0001 , Time: 354.17 s\n",
      "Epoch:   5,  train Loss: 0.01243,  validation Loss: 0.08247,  validation score: 0.03296,  current lr:  0.0001 , Time: 354.80 s\n",
      "Epoch:   6,  train Loss: 0.01176,  validation Loss: 0.07444,  validation score: 0.02061,  current lr:  0.0001 , Time: 354.36 s\n",
      "Epoch:   7,  train Loss: 0.01103,  validation Loss: 0.07584,  validation score: 0.05997,  current lr:  0.0001 , Time: 353.97 s\n",
      "Epoch:   8,  train Loss: 0.01085,  validation Loss: 0.07301,  validation score: 0.02502,  current lr:  0.0001 , Time: 353.95 s\n",
      "Epoch:   9,  train Loss: 0.01112,  validation Loss: 0.07835,  validation score: 0.00396,  current lr:  0.0001 , Time: 354.51 s\n",
      "Epoch:  10,  train Loss: 0.01035,  validation Loss: 0.06706,  validation score: 0.02473,  current lr:  0.0001 , Time: 354.48 s\n",
      "Epoch:  11,  train Loss: 0.00992,  validation Loss: 0.06783,  validation score: 0.04116,  current lr:  0.0001 , Time: 354.55 s\n",
      "Epoch:  12,  train Loss: 0.01148,  validation Loss: 0.08256,  validation score: 0.04054,  current lr:  0.0001 , Time: 354.28 s\n",
      "Epoch    13: reducing learning rate of group 0 to 8.5000e-05.\n",
      "Epoch:  13,  train Loss: 0.01096,  validation Loss: 0.07235,  validation score: 0.02648,  current lr:  8.5e-05 , Time: 352.80 s\n",
      "Epoch:  14,  train Loss: 0.01023,  validation Loss: 0.07620,  validation score: 0.00901,  current lr:  8.5e-05 , Time: 352.54 s\n",
      "Epoch:  15,  train Loss: 0.00992,  validation Loss: 0.06965,  validation score: 0.02926,  current lr:  8.5e-05 , Time: 353.62 s\n",
      "Epoch:  16,  train Loss: 0.00948,  validation Loss: 0.06687,  validation score: 0.06191,  current lr:  8.5e-05 , Time: 353.69 s\n",
      "Epoch:  17,  train Loss: 0.00959,  validation Loss: 0.06589,  validation score: 0.23529,  current lr:  8.5e-05 , Time: 353.01 s\tBest model saved at score: 0.23529\n",
      "Epoch:  18,  train Loss: 0.00960,  validation Loss: 0.06319,  validation score: 0.04308,  current lr:  8.5e-05 , Time: 352.56 s\n",
      "Epoch:  19,  train Loss: 0.00930,  validation Loss: 0.06025,  validation score: 0.08705,  current lr:  8.5e-05 , Time: 352.53 s\n",
      "Epoch:  20,  train Loss: 0.00911,  validation Loss: 0.05934,  validation score: 0.28512,  current lr:  8.5e-05 , Time: 350.56 s\tBest model saved at score: 0.28512\n",
      "Epoch:  21,  train Loss: 0.00896,  validation Loss: 0.06205,  validation score: 0.17154,  current lr:  8.5e-05 , Time: 351.32 s\n",
      "Epoch:  22,  train Loss: 0.00831,  validation Loss: 0.06205,  validation score: 0.13133,  current lr:  8.5e-05 , Time: 352.76 s\n",
      "Epoch:  23,  train Loss: 0.00766,  validation Loss: 0.05235,  validation score: 0.46523,  current lr:  8.5e-05 , Time: 354.43 s\tBest model saved at score: 0.46523\n",
      "Epoch:  24,  train Loss: 0.00717,  validation Loss: 0.05968,  validation score: 0.58262,  current lr:  8.5e-05 , Time: 353.20 s\tBest model saved at score: 0.58262\n",
      "Epoch:  25,  train Loss: 0.00727,  validation Loss: 0.06956,  validation score: 0.51509,  current lr:  8.5e-05 , Time: 353.78 s\n",
      "Epoch:  26,  train Loss: 0.00688,  validation Loss: 0.05197,  validation score: 0.41975,  current lr:  8.5e-05 , Time: 353.46 s\n",
      "Epoch:  27,  train Loss: 0.00737,  validation Loss: 0.07279,  validation score: 0.46315,  current lr:  8.5e-05 , Time: 353.37 s\n",
      "Epoch:  28,  train Loss: 0.00759,  validation Loss: 0.05113,  validation score: 0.53997,  current lr:  8.5e-05 , Time: 353.01 s\n",
      "Epoch:  29,  train Loss: 0.00618,  validation Loss: 0.05882,  validation score: 0.54637,  current lr:  8.5e-05 , Time: 352.82 s\n",
      "Epoch:  30,  train Loss: 0.00395,  validation Loss: 0.05502,  validation score: 0.54810,  current lr:  8.5e-05 , Time: 352.44 s\n",
      "Epoch:  31,  train Loss: 0.00291,  validation Loss: 0.03838,  validation score: 0.60088,  current lr:  8.5e-05 , Time: 352.52 s\tBest model saved at score: 0.60088\n",
      "Epoch:  32,  train Loss: 0.00379,  validation Loss: 0.04355,  validation score: 0.46611,  current lr:  8.5e-05 , Time: 354.47 s\n",
      "Epoch:  33,  train Loss: 0.00048,  validation Loss: 0.00079,  validation score: 0.61258,  current lr:  8.5e-05 , Time: 360.31 s\tBest model saved at score: 0.61258\n",
      "Epoch:  34,  train Loss: -0.00206,  validation Loss: 0.03596,  validation score: 0.46069,  current lr:  8.5e-05 , Time: 355.86 s\n",
      "Epoch:  35,  train Loss: -0.00077,  validation Loss: 0.00888,  validation score: 0.57377,  current lr:  8.5e-05 , Time: 355.01 s\n",
      "Epoch:  36,  train Loss: -0.00354,  validation Loss: -0.00408,  validation score: 0.62519,  current lr:  8.5e-05 , Time: 354.88 s\tBest model saved at score: 0.62519\n",
      "Epoch:  37,  train Loss: -0.00551,  validation Loss: -0.02125,  validation score: 0.65381,  current lr:  8.5e-05 , Time: 354.87 s\tBest model saved at score: 0.65381\n",
      "Epoch:  38,  train Loss: -0.00588,  validation Loss: 0.01811,  validation score: 0.53547,  current lr:  8.5e-05 , Time: 354.56 s\n",
      "Epoch:  39,  train Loss: -0.00565,  validation Loss: -0.01121,  validation score: 0.62697,  current lr:  8.5e-05 , Time: 354.93 s\n",
      "Epoch    40: reducing learning rate of group 0 to 7.2250e-05.\n",
      "Epoch:  40,  train Loss: -0.00620,  validation Loss: 0.02465,  validation score: 0.53551,  current lr:  7.225000000000001e-05 , Time: 354.60 s\n",
      "Epoch:  41,  train Loss: -0.00697,  validation Loss: -0.02124,  validation score: 0.60930,  current lr:  7.225000000000001e-05 , Time: 353.80 s\n",
      "Epoch:  42,  train Loss: -0.01116,  validation Loss: -0.04271,  validation score: 0.63959,  current lr:  7.225000000000001e-05 , Time: 353.76 s\n",
      "Epoch:  43,  train Loss: -0.01343,  validation Loss: -0.04744,  validation score: 0.66733,  current lr:  7.225000000000001e-05 , Time: 352.87 s\tBest model saved at score: 0.66733\n",
      "Epoch:  44,  train Loss: -0.01349,  validation Loss: -0.04672,  validation score: 0.66313,  current lr:  7.225000000000001e-05 , Time: 353.15 s\n",
      "Epoch:  45,  train Loss: -0.01384,  validation Loss: -0.02866,  validation score: 0.64145,  current lr:  7.225000000000001e-05 , Time: 352.90 s\n",
      "Epoch    46: reducing learning rate of group 0 to 6.1413e-05.\n",
      "Epoch:  46,  train Loss: -0.01363,  validation Loss: -0.04270,  validation score: 0.69115,  current lr:  6.141250000000001e-05 , Time: 352.65 s\tBest model saved at score: 0.69115\n",
      "Epoch:  47,  train Loss: -0.01529,  validation Loss: -0.02888,  validation score: 0.61814,  current lr:  6.141250000000001e-05 , Time: 352.88 s\n",
      "Epoch:  48,  train Loss: -0.01589,  validation Loss: -0.04302,  validation score: 0.69764,  current lr:  6.141250000000001e-05 , Time: 353.61 s\tBest model saved at score: 0.69764\n",
      "Epoch    49: reducing learning rate of group 0 to 5.2201e-05.\n",
      "Epoch:  49,  train Loss: -0.01821,  validation Loss: -0.03168,  validation score: 0.62534,  current lr:  5.2200625000000005e-05 , Time: 355.80 s\n",
      "Epoch:  50,  train Loss: -0.01956,  validation Loss: -0.04926,  validation score: 0.66691,  current lr:  5.2200625000000005e-05 , Time: 355.02 s\n",
      "Epoch:  51,  train Loss: -0.02035,  validation Loss: -0.04306,  validation score: 0.65412,  current lr:  5.2200625000000005e-05 , Time: 354.94 s\n",
      "Epoch:  52,  train Loss: -0.02152,  validation Loss: -0.04410,  validation score: 0.66398,  current lr:  5.2200625000000005e-05 , Time: 353.60 s\n",
      "Epoch    53: reducing learning rate of group 0 to 4.4371e-05.\n",
      "Epoch:  53,  train Loss: -0.02250,  validation Loss: -0.04863,  validation score: 0.70971,  current lr:  4.437053125e-05 , Time: 354.37 s\tBest model saved at score: 0.70971\n",
      "Epoch:  54,  train Loss: -0.02300,  validation Loss: -0.04591,  validation score: 0.67101,  current lr:  4.437053125e-05 , Time: 354.08 s\n",
      "Epoch:  55,  train Loss: -0.02431,  validation Loss: -0.04230,  validation score: 0.68507,  current lr:  4.437053125e-05 , Time: 352.31 s\n",
      "Epoch:  56,  train Loss: -0.02472,  validation Loss: -0.05233,  validation score: 0.67745,  current lr:  4.437053125e-05 , Time: 353.34 s\n",
      "Epoch:  57,  train Loss: -0.02499,  validation Loss: -0.03976,  validation score: 0.66863,  current lr:  4.437053125e-05 , Time: 356.37 s\n",
      "Epoch:  58,  train Loss: -0.02587,  validation Loss: -0.04637,  validation score: 0.67425,  current lr:  4.437053125e-05 , Time: 357.46 s\n",
      "Epoch    59: reducing learning rate of group 0 to 3.7715e-05.\n",
      "Epoch:  59,  train Loss: -0.02653,  validation Loss: -0.04829,  validation score: 0.67845,  current lr:  3.77149515625e-05 , Time: 355.05 s\n",
      "Epoch:  60,  train Loss: -0.02729,  validation Loss: -0.04095,  validation score: 0.66790,  current lr:  3.77149515625e-05 , Time: 353.70 s\n",
      "Training Finished after 60 epoches\n"
     ]
    }
   ],
   "source": [
    "# Training session history data.\n",
    "history = {'train_loss': list(), 'validation_loss': list()}\n",
    "\n",
    "# For save best feature. Initial loss taken a very high value.\n",
    "last_score = 0\n",
    "\n",
    "# Optimizer used for training process. Adam Optimizer.\n",
    "optimizer = optim.Adam(unet_model.parameters(), lr = learning_rate)\n",
    "\n",
    "# Reducing LR on plateau feature to improve training.\n",
    "scheduler = optim.lr_scheduler.ReduceLROnPlateau(optimizer, factor = 0.85, patience = 2, verbose = True)\n",
    "\n",
    "print('Starting Training Process')\n",
    "\n",
    "assert validationloader.batch_size == 1\n",
    "\n",
    "# Epoch Loop\n",
    "for epoch in range(epochs):\n",
    "    \n",
    "    #################################### Train ####################################################\n",
    "    unet_model.train()\n",
    "    start_time = time()\n",
    "    # Training a single epoch\n",
    "    train_epoch_loss, train_batch_loss, batch_iteration = 0, 0, 0\n",
    "    validation_score, validation_loss = 0, 0\n",
    "\n",
    "    for batch, data in enumerate(trainloader):\n",
    "        # Keeping track how many iteration is happening.\n",
    "        batch_iteration += 1\n",
    "        # Loading data to device used.\n",
    "        image = data['image'].to(device, dtype=torch.float)\n",
    "        mask = data['mask'].to(device, dtype=torch.float)\n",
    "        # Clearing gradients of optimizer.\n",
    "        optimizer.zero_grad()\n",
    "        # Calculation predicted output using forward pass.\n",
    "        output = unet_model(image)\n",
    "        # Calculating the loss value.\n",
    "        loss_value = criterion(output, mask)\n",
    "        # Computing the gradients.\n",
    "        loss_value.backward()\n",
    "        # Optimizing the network parameters.\n",
    "        optimizer.step()\n",
    "        # Updating the running training loss\n",
    "        train_epoch_loss += loss_value.item()\n",
    "        train_batch_loss += loss_value.item()\n",
    "\n",
    "        # Printing batch logs if any. Useful if you want to see the training trends within each epoch.\n",
    "        if mini_batch:\n",
    "            if (batch + 1) % mini_batch == 0:\n",
    "                train_batch_loss = train_batch_loss / (mini_batch * trainloader.batch_size)\n",
    "                print(\n",
    "                    f'    Batch: {batch + 1:2d},\\tBatch Loss: {train_batch_loss:.7f}')\n",
    "                train_batch_loss = 0\n",
    "\n",
    "    train_epoch_loss = train_epoch_loss / (batch_iteration * trainloader.batch_size)\n",
    "    \n",
    "    ################################### Validation ##################################################\n",
    "    unet_model.eval()\n",
    "    # To get data in loops.\n",
    "    batch_iteration = 0\n",
    "\n",
    "    for batch, data in enumerate(validationloader):\n",
    "        # Keeping track how many iteration is happening.\n",
    "        batch_iteration += 1\n",
    "        # Data prepared to be given as input to model.\n",
    "        image = data['image'].to(device, dtype=torch.float)\n",
    "        mask = data['mask'].to(device, dtype=torch.float)\n",
    "\n",
    "        # Predicted output from the input sample.\n",
    "        mask_prediction = unet_model(image)\n",
    "        \n",
    "        # comput validation loss\n",
    "        loss_value = criterion(mask_prediction, mask)\n",
    "        validation_loss += loss_value.item()\n",
    "        \n",
    "        # Threshold elimination.\n",
    "        mask_prediction = (mask_prediction > 0.5)\n",
    "        mask_prediction = mask_prediction.cpu().numpy()\n",
    "        mask = mask.cpu().numpy()\n",
    "\n",
    "        mask = np.resize(mask, (155, 240, 240))\n",
    "        mask_prediction = np.resize(mask_prediction, (155, 240, 240))\n",
    "        # Calculate the dice score for original and predicted image mask.\n",
    "        validation_score += dice_coefficient(mask_prediction, mask)\n",
    "\n",
    "    # Calculating the mean score for the whole validation dataset.\n",
    "    unet_val = validation_score / batch_iteration\n",
    "    validation_loss = validation_loss / batch_iteration\n",
    "    \n",
    "    # Collecting all epoch loss values for future visualization.\n",
    "    history['train_loss'].append(train_epoch_loss)\n",
    "    history['validation_loss'].append(validation_loss)\n",
    "    \n",
    "    # Reduce LR On Plateau\n",
    "    scheduler.step(validation_loss)\n",
    "\n",
    "    time_taken = time() - start_time\n",
    "    \n",
    "    # Training Logs printed.\n",
    "    print(f'Epoch: {epoch + 1:3d},  ', end = '')\n",
    "    print(f'train Loss: {train_epoch_loss:.5f},  ', end = '')\n",
    "    print(f'validation Loss: {validation_loss:.5f},  ', end = '')\n",
    "    print(f'validation score: {unet_val:.5f},  ', end = '')\n",
    "\n",
    "    for pg in optimizer.param_groups:\n",
    "        print('current lr: ', pg['lr'], ', ', end = '')\n",
    "    print(f'Time: {time_taken:.2f} s', end = '')\n",
    "\n",
    "    # Save the model every epoch.\n",
    "    current_epoch_model_save_path = os.path.join(model_save_path, 'Basic_Unet_epoch_%s.pth' % (str(epoch).zfill(3)))\n",
    "    torch.save(unet_model.state_dict(), current_epoch_model_save_path)\n",
    "    \n",
    "    # Save the best model (determined by validation score) and give it a unique name.\n",
    "    best_model_path = os.path.join(model_save_path, 'Basic_Unet_best_model.pth')\n",
    "    if  last_score < unet_val:\n",
    "        torch.save(unet_model.state_dict(), best_model_path)\n",
    "        last_score = unet_val\n",
    "        print(f'\\tBest model saved at score: {unet_val:.5f}')\n",
    "    else:\n",
    "        print()\n",
    "\n",
    "print(f'Training Finished after {epochs} epoches')"
   ]
  },
  {
   "cell_type": "code",
   "execution_count": 98,
   "metadata": {},
   "outputs": [
    {
     "data": {
      "image/png": "[encoded data removed]",
      "text/plain": [
       "<Figure size 1440x720 with 1 Axes>"
      ]
     },
     "metadata": {
      "needs_background": "light"
     },
     "output_type": "display_data"
    }
   ],
   "source": [
    "plt.figure(figsize=(20, 10))\n",
    "plt.title('Loss Over Epoch')\n",
    "plt.xlabel('Epochs')\n",
    "plt.ylabel('Loss Value')\n",
    "train_curve = plt.plot(history['train_loss'], marker = 'o', label = 'Train loss')\n",
    "validation_curve = plt.plot(history['validation_loss'], marker = 'o', label = 'Validation loss')\n",
    "plt.legend(fontsize = 15)\n",
    "plt.show()"
   ]
  },
  {
   "cell_type": "code",
   "execution_count": 99,
   "metadata": {},
   "outputs": [
    {
     "name": "stdout",
     "output_type": "stream",
     "text": [
      "\n",
      "Dice Score 0.5200868951366857\n",
      "\n"
     ]
    }
   ],
   "source": [
    "# Load the unet model at its prime (when it performed the best on the validation set).\n",
    "state_dict = torch.load(os.path.join(model_save_path, 'Basic_Unet_best_model.pth'))\n",
    "unet_model.load_state_dict(state_dict)\n",
    "\n",
    "# Testing process on test data.\n",
    "unet_model.eval()\n",
    "# Getting test data indices for dataloading\n",
    "test_data_indexes = test_indices\n",
    "# Total testing data used.\n",
    "data_length = len(test_data_indexes)\n",
    "# Score after testing on dataset.\n",
    "mean_test_score = 0\n",
    "\n",
    "for batch, data in enumerate(testloader):\n",
    "    # Data prepared to be given as input to model.\n",
    "    image = data['image'].to(device, dtype=torch.float)\n",
    "    mask = data['mask']\n",
    "\n",
    "    # Predicted output from the input sample.\n",
    "    mask_prediction = unet_model(image).cpu()\n",
    "    # Threshold elimination.\n",
    "    mask_prediction = (mask_prediction > 0.5)\n",
    "    mask_prediction = mask_prediction.numpy()\n",
    "\n",
    "    mask = np.resize(mask, (155, 240, 240))\n",
    "    mask_prediction = np.resize(mask_prediction, (155, 240, 240))\n",
    "\n",
    "    # Calculating the dice score for original and predicted mask.\n",
    "    mean_test_score += dice_coefficient(mask_prediction, mask)\n",
    "\n",
    "# Calculating the mean score for the whole test dataset.\n",
    "unet_score = mean_test_score / data_length\n",
    "# Putting the model back to training mode.\n",
    "print(f'\\nDice Score {unet_score}\\n')"
   ]
  },
  {
   "cell_type": "code",
   "execution_count": 82,
   "metadata": {},
   "outputs": [],
   "source": [
    "def result(image, mask, output, title, transparency = 0.38, save_path = None):\n",
    "    '''\n",
    "    Plots a 2x3 plot with comparisons of output and original image.\n",
    "    Works best with Jupyter Notebook/Lab.\n",
    "    Parameters:\n",
    "        image(numpy.ndarray): Array containing the original image of MRI scan.\n",
    "        mask(numpy.ndarray): Array containing the original mask of tumor.\n",
    "        output(numpy.ndarray): Model predicted mask from input image.\n",
    "        title(str): Title of the plot to be used.\n",
    "        transparency(float): Transparency level of mask on images.\n",
    "                             Default: 0.38\n",
    "        save_path(str): Saves the plot to the location specified.\n",
    "                        Does nothing if None. \n",
    "                        Default: None\n",
    "    Return:\n",
    "        None\n",
    "    '''\n",
    "\n",
    "    fig, axs = plt.subplots(2, 3, sharex=True, sharey=True, figsize=(\n",
    "        10, 8), gridspec_kw={'wspace': 0.025, 'hspace': 0.010})\n",
    "    fig.suptitle(title, x=0.5, y=0.92, fontsize=20)\n",
    "\n",
    "    axs[0][0].set_title(\"Original Mask\", fontdict={'fontsize': 16})\n",
    "    axs[0][0].imshow(mask, cmap='gray')\n",
    "    axs[0][0].set_axis_off()\n",
    "\n",
    "    axs[0][1].set_title(\"Predicted Mask\", fontdict={'fontsize': 16})\n",
    "    axs[0][1].imshow(output, cmap='gray')\n",
    "    axs[0][1].set_axis_off()\n",
    "\n",
    "    mask_diff = np.abs(np.subtract(mask, output))\n",
    "    axs[0][2].set_title(\"Mask Difference\", fontdict={'fontsize': 16})\n",
    "    axs[0][2].imshow(mask_diff, cmap='gray')\n",
    "    axs[0][2].set_axis_off()\n",
    "\n",
    "    seg_output = mask*transparency\n",
    "    seg_image = np.add(image, seg_output)/2\n",
    "    axs[1][0].set_title(\"Original Segmentation\", fontdict={'fontsize': 16})\n",
    "    axs[1][0].imshow(seg_image, cmap='gray')\n",
    "    axs[1][0].set_axis_off()\n",
    "    \n",
    "    seg_output = output*transparency\n",
    "    seg_image = np.add(image, seg_output)/2\n",
    "    axs[1][1].set_title(\"Predicted Segmentation\", fontdict={'fontsize': 16})\n",
    "    axs[1][1].imshow(seg_image, cmap='gray')\n",
    "    axs[1][1].set_axis_off()\n",
    "\n",
    "    axs[1][2].set_title(\"Original Input Image\", fontdict={'fontsize': 16})\n",
    "    axs[1][2].imshow(image, cmap='gray')\n",
    "    axs[1][2].set_axis_off()\n",
    "\n",
    "    plt.tight_layout()\n",
    "\n",
    "    if save_path:\n",
    "        plt.savefig(save_path, dpi = 90, bbox_inches = 'tight')\n",
    "\n",
    "    plt.show()"
   ]
  },
  {
   "cell_type": "code",
   "execution_count": 85,
   "metadata": {},
   "outputs": [
    {
     "ename": "IndexError",
     "evalue": "index 75 is out of bounds for axis 0 with size 1",
     "output_type": "error",
     "traceback": [
      "\u001b[0;31m---------------------------------------------------------------------------\u001b[0m",
      "\u001b[0;31mIndexError\u001b[0m                                Traceback (most recent call last)",
      "\u001b[0;32m<ipython-input-85-eec52e2eb6d5>\u001b[0m in \u001b[0;36m<module>\u001b[0;34m\u001b[0m\n\u001b[1;32m     20\u001b[0m     \u001b[0mmask\u001b[0m \u001b[0;34m=\u001b[0m \u001b[0mmask\u001b[0m\u001b[0;34m[\u001b[0m\u001b[0;36m75\u001b[0m\u001b[0;34m,\u001b[0m \u001b[0;34m:\u001b[0m\u001b[0;34m,\u001b[0m \u001b[0;34m:\u001b[0m\u001b[0;34m]\u001b[0m\u001b[0;34m\u001b[0m\u001b[0;34m\u001b[0m\u001b[0m\n\u001b[1;32m     21\u001b[0m     \u001b[0;31m# output(numpy.ndarray): 240x240 Generated mask of scanned image.\u001b[0m\u001b[0;34m\u001b[0m\u001b[0;34m\u001b[0m\u001b[0;34m\u001b[0m\u001b[0m\n\u001b[0;32m---> 22\u001b[0;31m     \u001b[0moutput\u001b[0m \u001b[0;34m=\u001b[0m \u001b[0moutput\u001b[0m\u001b[0;34m[\u001b[0m\u001b[0;36m75\u001b[0m\u001b[0;34m,\u001b[0m \u001b[0;34m:\u001b[0m\u001b[0;34m,\u001b[0m \u001b[0;34m:\u001b[0m\u001b[0;34m]\u001b[0m\u001b[0;34m\u001b[0m\u001b[0;34m\u001b[0m\u001b[0m\n\u001b[0m\u001b[1;32m     23\u001b[0m     \u001b[0;31m# score(float): Sørensen–Dice Coefficient for mask and output. Calculates how similar are the two images.\u001b[0m\u001b[0;34m\u001b[0m\u001b[0;34m\u001b[0m\u001b[0;34m\u001b[0m\u001b[0m\n\u001b[1;32m     24\u001b[0m     \u001b[0md_score\u001b[0m \u001b[0;34m=\u001b[0m \u001b[0mdice_coefficient\u001b[0m\u001b[0;34m(\u001b[0m\u001b[0moutput\u001b[0m\u001b[0;34m,\u001b[0m \u001b[0mmask\u001b[0m\u001b[0;34m)\u001b[0m\u001b[0;34m\u001b[0m\u001b[0;34m\u001b[0m\u001b[0m\n",
      "\u001b[0;31mIndexError\u001b[0m: index 75 is out of bounds for axis 0 with size 1"
     ]
    }
   ],
   "source": [
    "for example_index in range(5):\n",
    "    # The purpose of image_index is to make sure we truly pick from the test set.\n",
    "    image_index = test_indices[example_index]\n",
    "    sample = tumor_dataset[image_index]\n",
    "    threshold = 0.5\n",
    "\n",
    "    unet_model.eval()\n",
    "    image = sample['image'].numpy()\n",
    "    mask = sample['mask'].numpy()\n",
    "\n",
    "    image_tensor = torch.Tensor(image)\n",
    "    image_tensor = image_tensor.view((-1, 155, 240, 240)).to(device)\n",
    "    output = unet_model(image_tensor).detach().cpu()\n",
    "    output = (output > threshold)\n",
    "    output = output.numpy()\n",
    "\n",
    "    # image(numpy.ndarray): 240x240 Original brain scanned image.\n",
    "    image = image[75, :, :]\n",
    "    # mask(numpy.ndarray): 240x240 Original mask of scanned image.\n",
    "    mask = mask[75, :, :]\n",
    "    # output(numpy.ndarray): 240x240 Generated mask of scanned image.\n",
    "    output = output[75, :, :]\n",
    "    # score(float): Sørensen–Dice Coefficient for mask and output. Calculates how similar are the two images.\n",
    "    d_score = dice_coefficient(output, mask)\n",
    "\n",
    "    title = f'Name: {image_index}.png   Dice Score: {d_score:.5f}'\n",
    "    # save_path = os.path.join('images',f'{d_score:.5f}_{image_index}.png')\n",
    "    result(image, mask, output, title, save_path = None)"
   ]
  },
  {
   "cell_type": "markdown",
   "metadata": {},
   "source": [
    "## 3. Traditional Data Augmentation with TorchIO"
   ]
  },
  {
   "cell_type": "code",
   "execution_count": 5,
   "metadata": {},
   "outputs": [],
   "source": [
    "import torchio\n",
    "from torchio.transforms import Rescale, RandomAffine\n",
    "from torchvision.transforms import Compose\n",
    "from torch.utils.data import DataLoader"
   ]
  },
  {
   "cell_type": "code",
   "execution_count": null,
   "metadata": {},
   "outputs": [],
   "source": [
    "# Some visualization functions\n",
    "\n",
    "def show_nifti(image_path_or_image, colormap='gray'):\n",
    "    try:\n",
    "        from niwidgets import NiftiWidget\n",
    "        with warnings.catch_warnings():\n",
    "            warnings.filterwarnings(\"ignore\", category=FutureWarning)\n",
    "            widget = NiftiWidget(image_path_or_image)\n",
    "            widget.nifti_plotter(colormap=colormap)\n",
    "    except Exception:\n",
    "        if isinstance(image_path_or_image, nib.AnalyzeImage):\n",
    "            nii = image_path_or_image\n",
    "        else:\n",
    "            image_path = image_path_or_image\n",
    "            nii = nib.load(str(image_path))\n",
    "        k = int(nii.shape[-1] / 2)\n",
    "        plt.imshow(nii.dataobj[..., k], cmap=colormap)\n",
    "\n",
    "def show_sample(sample, image_name, label_name=None):\n",
    "    if label_name is not None:\n",
    "        sample = copy.deepcopy(sample)\n",
    "        affine = sample[label_name][AFFINE]\n",
    "        label = sample[label_name][DATA][0].numpy().astype(np.uint8)\n",
    "        label_image = torchio.utils.nib_to_sitk(label, affine)\n",
    "        border = sitk.BinaryContour(label_image)\n",
    "        border_array, _ = torchio.utils.sitk_to_nib(border)\n",
    "        border_tensor = torch.from_numpy(border_array)\n",
    "        image_tensor = sample[image_name][DATA][0]\n",
    "        image_tensor[border_tensor > 0.5] = image_tensor.max()\n",
    "    with tempfile.NamedTemporaryFile(suffix='.nii') as f:\n",
    "        torchio.ImagesDataset.save_sample(sample, {image_name: f.name})\n",
    "        show_nifti(f.name)\n",
    "\n",
    "def plot_histogram(axis, tensor, num_positions=100, label=None, alpha=0.05, color=None):\n",
    "    values = tensor.numpy().ravel()\n",
    "    kernel = stats.gaussian_kde(values)\n",
    "    positions = np.linspace(values.min(), values.max(), num=num_positions)\n",
    "    histogram = kernel(positions)\n",
    "    kwargs = dict(linewidth=1, color='black' if color is None else color, alpha=alpha)\n",
    "    if label is not None:\n",
    "        kwargs['label'] = label\n",
    "    axis.plot(positions, histogram, **kwargs)"
   ]
  },
  {
   "cell_type": "code",
   "execution_count": 6,
   "metadata": {},
   "outputs": [
    {
     "name": "stdout",
     "output_type": "stream",
     "text": [
      "Dataset size: 335 subjects\n"
     ]
    }
   ],
   "source": [
    "dataPath = Path('./data')\n",
    "\n",
    "t1_path = dataPath / 'all_gbm_pre_reg'\n",
    "tumor_path = dataPath / 'all_tumors_reg'\n",
    "brain_mask_path = dataPath / 'brain_masks'\n",
    "\n",
    "t1_locations = sorted(t1_path.glob('*.nii.gz'))\n",
    "tumor_locations = sorted(tumor_path.glob('*.nii.gz'))\n",
    "brain_mask_locations = sorted(brain_mask_path.glob('*.nii.gz'))\n",
    "\n",
    "\n",
    "assert len(t1_locations) == len(tumor_locations) == len(brain_mask_locations)\n",
    "\n",
    "subjects = []\n",
    "for (image_path, label_path, brain_mask_path) in zip(t1_locations, tumor_locations, brain_mask_locations):\n",
    "    subject = torchio.Subject(\n",
    "        torchio.Image('t1', image_path, torchio.INTENSITY),\n",
    "        torchio.Image('tumor', label_path, torchio.LABEL),\n",
    "        torchio.Image('brain mask', brain_mask_path, torchio.LABEL)\n",
    "    )\n",
    "    subjects.append(subject)\n",
    "    \n",
    "dataset = torchio.ImagesDataset(subjects)\n",
    "print('Dataset size:', len(dataset), 'subjects')"
   ]
  },
  {
   "cell_type": "markdown",
   "metadata": {},
   "source": [
    "### 3.1 Exploration"
   ]
  },
  {
   "cell_type": "code",
   "execution_count": 7,
   "metadata": {},
   "outputs": [
    {
     "data": {
      "image/png": "[encoded data removed]",
      "text/plain": [
       "<Figure size 432x288 with 1 Axes>"
      ]
     },
     "metadata": {
      "needs_background": "light"
     },
     "output_type": "display_data"
    }
   ],
   "source": [
    "sample = dataset[0]\n",
    "show_sample(sample, 't1', label_name='tumor')"
   ]
  },
  {
   "cell_type": "code",
   "execution_count": 8,
   "metadata": {},
   "outputs": [
    {
     "data": {
      "image/png": "[encoded data removed]",
      "text/plain": [
       "<Figure size 432x288 with 1 Axes>"
      ]
     },
     "metadata": {
      "needs_background": "light"
     },
     "output_type": "display_data"
    }
   ],
   "source": [
    "to_ras = torchio.transforms.ToCanonical()\n",
    "# to_iso = torchio.transforms.Resample((4, 4, 4))\n",
    "ras_iso_transform = Compose([to_ras, to_iso])\n",
    "ras_iso_sample = ras_iso_transform(sample)\n",
    "show_sample(ras_iso_sample, 't1', label_name='tumor')"
   ]
  },
  {
   "cell_type": "code",
   "execution_count": 9,
   "metadata": {},
   "outputs": [
    {
     "data": {
      "image/png": "[encoded data removed]",
      "text/plain": [
       "<Figure size 432x288 with 1 Axes>"
      ]
     },
     "metadata": {
      "needs_background": "light"
     },
     "output_type": "display_data"
    }
   ],
   "source": [
    "crop_transform = torchio.transforms.Crop(cropping=(2, 2, 3, 2, 0, 4))\n",
    "transformed = crop_transform(ras_iso_sample)\n",
    "show_sample(transformed, 't1')"
   ]
  },
  {
   "cell_type": "code",
   "execution_count": 10,
   "metadata": {},
   "outputs": [],
   "source": [
    "ras_iso_crop_transform = Compose([ras_iso_transform, crop_transform])\n",
    "nicer_dataset = torchio.ImagesDataset(subjects, transform=ras_iso_crop_transform)"
   ]
  },
  {
   "cell_type": "code",
   "execution_count": 13,
   "metadata": {},
   "outputs": [
    {
     "data": {
      "text/plain": [
       "335"
      ]
     },
     "execution_count": 13,
     "metadata": {},
     "output_type": "execute_result"
    }
   ],
   "source": [
    "len(nicer_dataset)"
   ]
  },
  {
   "cell_type": "markdown",
   "metadata": {},
   "source": [
    "### 3.2 Processing"
   ]
  },
  {
   "cell_type": "code",
   "execution_count": 11,
   "metadata": {},
   "outputs": [
    {
     "name": "stderr",
     "output_type": "stream",
     "text": [
      "100%|██████████| 335/335 [01:59<00:00,  2.81it/s]"
     ]
    },
    {
     "name": "stdout",
     "output_type": "stream",
     "text": [
      "(13,)\n"
     ]
    },
    {
     "name": "stderr",
     "output_type": "stream",
     "text": [
      "\n"
     ]
    }
   ],
   "source": [
    "# Histogram standization\n",
    "\n",
    "histogram_landmarks_path = 'landmarks.npy'\n",
    "\n",
    "from torchio.transforms import HistogramStandardization\n",
    "landmarks = HistogramStandardization.train(\n",
    "    t1_locations,\n",
    "    output_path=histogram_landmarks_path,\n",
    ")\n",
    "print(landmarks.shape)"
   ]
  },
  {
   "cell_type": "code",
   "execution_count": 12,
   "metadata": {},
   "outputs": [],
   "source": [
    "landmarks_dict = {'t1': landmarks}\n",
    "histogram_transform = HistogramStandardization(landmarks_dict)\n",
    "\n",
    "from torchio.transforms import ZNormalization\n",
    "znorm_transform = ZNormalization(masking_method=ZNormalization.mean)\n",
    "\n",
    "sample = dataset[0]\n",
    "transform = Compose([histogram_transform, znorm_transform])\n",
    "znormed = transform(sample)"
   ]
  },
  {
   "cell_type": "markdown",
   "metadata": {},
   "source": [
    "### 3.3 Augmentation"
   ]
  },
  {
   "cell_type": "markdown",
   "metadata": {},
   "source": [
    "#### 3.3.1 Intensity"
   ]
  },
  {
   "cell_type": "code",
   "execution_count": 21,
   "metadata": {},
   "outputs": [
    {
     "data": {
      "image/png": "[encoded data removed]",
      "text/plain": [
       "<Figure size 432x288 with 1 Axes>"
      ]
     },
     "metadata": {
      "needs_background": "light"
     },
     "output_type": "display_data"
    }
   ],
   "source": [
    "# Noise\n",
    "\n",
    "noise_transform = torchio.transforms.RandomNoise(std_range=(0.5, 0.5), seed=seed)\n",
    "znormed = ras_iso_transform(znormed)\n",
    "show_sample(znormed, 't1')\n",
    "transformed = noise_transform(znormed)\n",
    "show_sample(transformed, 't1')"
   ]
  },
  {
   "cell_type": "code",
   "execution_count": 22,
   "metadata": {},
   "outputs": [
    {
     "data": {
      "image/png": "[encoded data removed]",
      "text/plain": [
       "<Figure size 432x288 with 1 Axes>"
      ]
     },
     "metadata": {
      "needs_background": "light"
     },
     "output_type": "display_data"
    }
   ],
   "source": [
    "# Bias_field\n",
    "\n",
    "bias_transform = torchio.transforms.RandomBiasField(proportion_to_augment=1, seed=seed)\n",
    "sample = nicer_dataset[0]\n",
    "show_sample(sample, 't1')\n",
    "transformed = bias_transform(sample)\n",
    "show_sample(transformed, 't1')"
   ]
  },
  {
   "cell_type": "markdown",
   "metadata": {},
   "source": [
    "#### 3.3.2 Spatial"
   ]
  },
  {
   "cell_type": "code",
   "execution_count": 23,
   "metadata": {},
   "outputs": [
    {
     "data": {
      "image/png": "[encoded data removed]",
      "text/plain": [
       "<Figure size 432x288 with 1 Axes>"
      ]
     },
     "metadata": {
      "needs_background": "light"
     },
     "output_type": "display_data"
    }
   ],
   "source": [
    "# NN\n",
    "# Affine\n",
    "\n",
    "transform = torchio.transforms.RandomAffine(degrees=(10, 15), seed=seed)\n",
    "sample = nicer_dataset[0]\n",
    "transformed = transform(sample)\n",
    "show_sample(transformed, 't1')"
   ]
  },
  {
   "cell_type": "code",
   "execution_count": 24,
   "metadata": {},
   "outputs": [
    {
     "data": {
      "image/png": "[encoded data removed]",
      "text/plain": [
       "<Figure size 432x288 with 1 Axes>"
      ]
     },
     "metadata": {
      "needs_background": "light"
     },
     "output_type": "display_data"
    }
   ],
   "source": [
    "# Flip\n",
    "\n",
    "transform = torchio.transforms.RandomFlip(axes=(2,), seed=0)\n",
    "transformed = transform(nicer_dataset[0])\n",
    "show_sample(transformed, 't1')"
   ]
  },
  {
   "cell_type": "code",
   "execution_count": 25,
   "metadata": {},
   "outputs": [
    {
     "data": {
      "image/png": "[encoded data removed]",
      "text/plain": [
       "<Figure size 432x288 with 1 Axes>"
      ]
     },
     "metadata": {
      "needs_background": "light"
     },
     "output_type": "display_data"
    }
   ],
   "source": [
    "# Elastic\n",
    "\n",
    "transform = torchio.transforms.RandomElasticDeformation(proportion_to_augment=1, seed=42)\n",
    "sample = nicer_dataset[0]\n",
    "show_sample(sample, 't1')\n",
    "transformed = transform(sample)\n",
    "show_sample(transformed, 't1')"
   ]
  },
  {
   "cell_type": "markdown",
   "metadata": {},
   "source": [
    "#### 3.3.3 Train a network"
   ]
  },
  {
   "cell_type": "code",
   "execution_count": 27,
   "metadata": {},
   "outputs": [
    {
     "name": "stdout",
     "output_type": "stream",
     "text": [
      "Training set: 301 subjects\n",
      "Validation set: 34 subjects\n"
     ]
    }
   ],
   "source": [
    "# 0.8,0.1,0.1\n",
    "\n",
    "from torchio.transforms import (\n",
    "    RandomFlip, # check axis\n",
    "    RandomAffine,\n",
    "    RandomElasticDeformation,\n",
    "    RandomNoise, # lower noise\n",
    "    RandomMotion, # no use\n",
    "    RandomBiasField,\n",
    "    Rescale,\n",
    "    Resample,\n",
    "    ToCanonical,\n",
    "    ZNormalization,\n",
    "    CenterCropOrPad,\n",
    "    HistogramStandardization,\n",
    ")\n",
    "\n",
    "training_transform = Compose([\n",
    "    Rescale((0, 1)),  # so that there are no negative values for RandomMotion\n",
    "    RandomMotion(),\n",
    "    HistogramStandardization(landmarks_dict={'t1': landmarks}),\n",
    "    RandomBiasField(),\n",
    "    ZNormalization(masking_method=ZNormalization.mean),\n",
    "    RandomNoise(),\n",
    "    ToCanonical(),\n",
    "    Resample((4, 4, 4)),\n",
    "    CenterCropOrPad((48, 60, 48)),\n",
    "    RandomFlip(axes=(0,)),\n",
    "    RandomAffine(),\n",
    "    RandomElasticDeformation(proportion_to_augment=0.1),\n",
    "])\n",
    "\n",
    "validation_transform = Compose([\n",
    "    HistogramStandardization(landmarks_dict={'t1': landmarks}),\n",
    "    ZNormalization(masking_method=ZNormalization.mean),\n",
    "    ToCanonical(),\n",
    "    Resample((4, 4, 4)),\n",
    "    CenterCropOrPad((48, 60, 48)),\n",
    "])\n",
    "\n",
    "num_subjects = len(dataset)\n",
    "num_training_subjects = int(training_split_ratio * num_subjects)\n",
    "\n",
    "training_subjects = subjects[:num_training_subjects]\n",
    "validation_subjects = subjects[num_training_subjects:]\n",
    "\n",
    "training_set = torchio.ImagesDataset(\n",
    "    training_subjects, transform=training_transform)\n",
    "\n",
    "validation_set = torchio.ImagesDataset(\n",
    "    validation_subjects, transform=validation_transform)\n",
    "\n",
    "print('Training set:', len(training_set), 'subjects')\n",
    "print('Validation set:', len(validation_set), 'subjects')"
   ]
  },
  {
   "cell_type": "code",
   "execution_count": 33,
   "metadata": {},
   "outputs": [],
   "source": [
    "device = torch.device('cuda') if torch.cuda.is_available() else 'cpu'\n",
    "CHANNELS_DIMENSION = 1\n",
    "SPATIAL_DIMENSIONS = 2, 3, 4\n",
    "\n",
    "class Action(enum.Enum):\n",
    "    TRAIN = 'Training'\n",
    "    VALIDATE = 'Validation'\n",
    "\n",
    "def prepare_batch(batch, device):\n",
    "    inputs = batch['t1'][DATA].to(device)\n",
    "    foreground = batch['tumor'][DATA].to(device)\n",
    "    background = 1 - foreground\n",
    "    targets = torch.cat((background, foreground), dim=CHANNELS_DIMENSION)\n",
    "    return inputs, targets\n",
    "\n",
    "def get_dice_score(output, target, epsilon=1e-9):\n",
    "    p0 = output\n",
    "    g0 = target\n",
    "    p1 = 1 - p0\n",
    "    g1 = 1 - g0\n",
    "    tp = (p0 * g0).sum(dim=SPATIAL_DIMENSIONS)\n",
    "    fp = (p0 * g1).sum(dim=SPATIAL_DIMENSIONS)\n",
    "    fn = (p1 * g0).sum(dim=SPATIAL_DIMENSIONS)\n",
    "    num = 2 * tp\n",
    "    denom = 2 * tp + fp + fn + epsilon\n",
    "    dice_score = num / denom\n",
    "    return dice_score\n",
    "\n",
    "def get_dice_loss(output, target):\n",
    "    return 1 - get_dice_score(output, target)\n",
    "\n",
    "def forward(model, inputs):\n",
    "    with warnings.catch_warnings():\n",
    "        warnings.filterwarnings(\"ignore\", category=UserWarning)\n",
    "        logits = model(inputs)\n",
    "    return logits\n",
    "\n",
    "def get_model_and_optimizer(device):\n",
    "    # Use pytorch, next step\n",
    "    # 1. use baseline data to train unet, if poor, change unet\n",
    "    # 2. data augmentation\n",
    "    model = UNet(\n",
    "        in_channels=1,\n",
    "        out_classes=2,\n",
    "        dimensions=3,\n",
    "        num_encoding_blocks=3,\n",
    "        out_channels_first_layer=8,\n",
    "        normalization='batch',\n",
    "        upsampling_type='linear',\n",
    "        padding=True,\n",
    "        padding_mode='reflection',\n",
    "        activation='PReLU',\n",
    "    ).to(device)\n",
    "    optimizer = torch.optim.AdamW(model.parameters())\n",
    "    return model, optimizer\n",
    "\n",
    "def run_epoch(epoch_idx, action, loader, model, optimizer):\n",
    "    is_training = action == Action.TRAIN\n",
    "    epoch_losses = []\n",
    "    model.train(is_training)\n",
    "    for batch_idx, batch in enumerate(tqdm(loader)):\n",
    "        inputs, targets = prepare_batch(batch, device)\n",
    "        optimizer.zero_grad()\n",
    "        with torch.set_grad_enabled(is_training):\n",
    "            logits = forward(model, inputs)\n",
    "            probabilities = F.softmax(logits, dim=CHANNELS_DIMENSION)\n",
    "            batch_losses = get_dice_loss(probabilities, targets)\n",
    "            batch_loss = batch_losses.mean()\n",
    "            if is_training:\n",
    "                batch_loss.backward()\n",
    "                optimizer.step()\n",
    "            epoch_losses.append(batch_loss.item())\n",
    "    epoch_losses = np.array(epoch_losses)\n",
    "    print(f'{action.value} mean loss: {epoch_losses.mean():0.3f}')\n",
    "\n",
    "def train(num_epochs, training_loader, validation_loader, model, optimizer, weights_stem):\n",
    "    run_epoch(0, Action.VALIDATE, validation_loader, model, optimizer)\n",
    "    for epoch_idx in range(1, num_epochs + 1):\n",
    "        print('Starting epoch', epoch_idx)\n",
    "        run_epoch(epoch_idx, Action.TRAIN, training_loader, model, optimizer)\n",
    "        run_epoch(epoch_idx, Action.VALIDATE, validation_loader, model, optimizer)\n",
    "        torch.save(model.state_dict(), f'{weights_stem}_epoch_{epoch_idx}.pth')"
   ]
  },
  {
   "cell_type": "code",
   "execution_count": 29,
   "metadata": {},
   "outputs": [],
   "source": [
    "training_batch_size = 16\n",
    "validation_batch_size = 2 * training_batch_size\n",
    "\n",
    "training_loader = torch.utils.data.DataLoader(\n",
    "    training_set,\n",
    "    batch_size=training_batch_size,\n",
    "    shuffle=True,\n",
    "    num_workers=multiprocessing.cpu_count(),\n",
    ")\n",
    "\n",
    "validation_loader = torch.utils.data.DataLoader(\n",
    "    validation_set,\n",
    "    batch_size=validation_batch_size,\n",
    "    num_workers=multiprocessing.cpu_count(),\n",
    ")"
   ]
  },
  {
   "cell_type": "code",
   "execution_count": 30,
   "metadata": {},
   "outputs": [
    {
     "data": {
      "image/png": "[encoded data removed]",
      "text/plain": [
       "<IPython.core.display.Image object>"
      ]
     },
     "execution_count": 30,
     "metadata": {},
     "output_type": "execute_result"
    }
   ],
   "source": [
    "one_batch = next(iter(training_loader))\n",
    "\n",
    "k = 24\n",
    "batch_t1 = one_batch['t1'][DATA][..., k]\n",
    "batch_tumor = one_batch['tumor'][DATA][..., k]\n",
    "slices = torch.cat((batch_t1, batch_tumor))\n",
    "image_path = 'batch_whole_images.png'\n",
    "save_image(slices, image_path, nrow=training_batch_size//2, normalize=True, scale_each=True)\n",
    "display.Image(image_path)"
   ]
  },
  {
   "cell_type": "code",
   "execution_count": 34,
   "metadata": {},
   "outputs": [
    {
     "data": {
      "application/vnd.jupyter.widget-view+json": {
       "model_id": "f9b1cf674e5a4d7da5367068a3774a60",
       "version_major": 2,
       "version_minor": 0
      },
      "text/plain": [
       "HBox(children=(FloatProgress(value=0.0, max=2.0), HTML(value='')))"
      ]
     },
     "metadata": {},
     "output_type": "display_data"
    },
    {
     "name": "stdout",
     "output_type": "stream",
     "text": [
      "\n",
      "Validation mean loss: 0.610\n",
      "Starting epoch 1\n"
     ]
    },
    {
     "data": {
      "application/vnd.jupyter.widget-view+json": {
       "model_id": "726adad10c44464a829c497f97d54e4b",
       "version_major": 2,
       "version_minor": 0
      },
      "text/plain": [
       "HBox(children=(FloatProgress(value=0.0, max=19.0), HTML(value='')))"
      ]
     },
     "metadata": {},
     "output_type": "display_data"
    },
    {
     "ename": "RuntimeError",
     "evalue": "[enforce fail at CPUAllocator.cpp:64] . DefaultCPUAllocator: can't allocate memory: you tried to allocate 3822059520 bytes. Error code 12 (Cannot allocate memory)\n",
     "output_type": "error",
     "traceback": [
      "\u001b[0;31m---------------------------------------------------------------------------\u001b[0m",
      "\u001b[0;31mRuntimeError\u001b[0m                              Traceback (most recent call last)",
      "\u001b[0;32m<ipython-input-34-7e61992bba77>\u001b[0m in \u001b[0;36m<module>\u001b[0;34m\u001b[0m\n\u001b[1;32m      4\u001b[0m \u001b[0;34m\u001b[0m\u001b[0m\n\u001b[1;32m      5\u001b[0m \u001b[0mweights_stem\u001b[0m \u001b[0;34m=\u001b[0m \u001b[0;34m'whole_images'\u001b[0m\u001b[0;34m\u001b[0m\u001b[0;34m\u001b[0m\u001b[0m\n\u001b[0;32m----> 6\u001b[0;31m \u001b[0mtrain\u001b[0m\u001b[0;34m(\u001b[0m\u001b[0mnum_epochs\u001b[0m\u001b[0;34m,\u001b[0m \u001b[0mtraining_loader\u001b[0m\u001b[0;34m,\u001b[0m \u001b[0mvalidation_loader\u001b[0m\u001b[0;34m,\u001b[0m \u001b[0mmodel\u001b[0m\u001b[0;34m,\u001b[0m \u001b[0moptimizer\u001b[0m\u001b[0;34m,\u001b[0m \u001b[0mweights_stem\u001b[0m\u001b[0;34m)\u001b[0m\u001b[0;34m\u001b[0m\u001b[0;34m\u001b[0m\u001b[0m\n\u001b[0m",
      "\u001b[0;32m<ipython-input-33-16a700ab6e35>\u001b[0m in \u001b[0;36mtrain\u001b[0;34m(num_epochs, training_loader, validation_loader, model, optimizer, weights_stem)\u001b[0m\n\u001b[1;32m     75\u001b[0m     \u001b[0;32mfor\u001b[0m \u001b[0mepoch_idx\u001b[0m \u001b[0;32min\u001b[0m \u001b[0mrange\u001b[0m\u001b[0;34m(\u001b[0m\u001b[0;36m1\u001b[0m\u001b[0;34m,\u001b[0m \u001b[0mnum_epochs\u001b[0m \u001b[0;34m+\u001b[0m \u001b[0;36m1\u001b[0m\u001b[0;34m)\u001b[0m\u001b[0;34m:\u001b[0m\u001b[0;34m\u001b[0m\u001b[0;34m\u001b[0m\u001b[0m\n\u001b[1;32m     76\u001b[0m         \u001b[0mprint\u001b[0m\u001b[0;34m(\u001b[0m\u001b[0;34m'Starting epoch'\u001b[0m\u001b[0;34m,\u001b[0m \u001b[0mepoch_idx\u001b[0m\u001b[0;34m)\u001b[0m\u001b[0;34m\u001b[0m\u001b[0;34m\u001b[0m\u001b[0m\n\u001b[0;32m---> 77\u001b[0;31m         \u001b[0mrun_epoch\u001b[0m\u001b[0;34m(\u001b[0m\u001b[0mepoch_idx\u001b[0m\u001b[0;34m,\u001b[0m \u001b[0mAction\u001b[0m\u001b[0;34m.\u001b[0m\u001b[0mTRAIN\u001b[0m\u001b[0;34m,\u001b[0m \u001b[0mtraining_loader\u001b[0m\u001b[0;34m,\u001b[0m \u001b[0mmodel\u001b[0m\u001b[0;34m,\u001b[0m \u001b[0moptimizer\u001b[0m\u001b[0;34m)\u001b[0m\u001b[0;34m\u001b[0m\u001b[0;34m\u001b[0m\u001b[0m\n\u001b[0m\u001b[1;32m     78\u001b[0m         \u001b[0mrun_epoch\u001b[0m\u001b[0;34m(\u001b[0m\u001b[0mepoch_idx\u001b[0m\u001b[0;34m,\u001b[0m \u001b[0mAction\u001b[0m\u001b[0;34m.\u001b[0m\u001b[0mVALIDATE\u001b[0m\u001b[0;34m,\u001b[0m \u001b[0mvalidation_loader\u001b[0m\u001b[0;34m,\u001b[0m \u001b[0mmodel\u001b[0m\u001b[0;34m,\u001b[0m \u001b[0moptimizer\u001b[0m\u001b[0;34m)\u001b[0m\u001b[0;34m\u001b[0m\u001b[0;34m\u001b[0m\u001b[0m\n\u001b[1;32m     79\u001b[0m         \u001b[0mtorch\u001b[0m\u001b[0;34m.\u001b[0m\u001b[0msave\u001b[0m\u001b[0;34m(\u001b[0m\u001b[0mmodel\u001b[0m\u001b[0;34m.\u001b[0m\u001b[0mstate_dict\u001b[0m\u001b[0;34m(\u001b[0m\u001b[0;34m)\u001b[0m\u001b[0;34m,\u001b[0m \u001b[0;34mf'{weights_stem}_epoch_{epoch_idx}.pth'\u001b[0m\u001b[0;34m)\u001b[0m\u001b[0;34m\u001b[0m\u001b[0;34m\u001b[0m\u001b[0m\n",
      "\u001b[0;32m<ipython-input-33-16a700ab6e35>\u001b[0m in \u001b[0;36mrun_epoch\u001b[0;34m(epoch_idx, action, loader, model, optimizer)\u001b[0m\n\u001b[1;32m     60\u001b[0m         \u001b[0moptimizer\u001b[0m\u001b[0;34m.\u001b[0m\u001b[0mzero_grad\u001b[0m\u001b[0;34m(\u001b[0m\u001b[0;34m)\u001b[0m\u001b[0;34m\u001b[0m\u001b[0;34m\u001b[0m\u001b[0m\n\u001b[1;32m     61\u001b[0m         \u001b[0;32mwith\u001b[0m \u001b[0mtorch\u001b[0m\u001b[0;34m.\u001b[0m\u001b[0mset_grad_enabled\u001b[0m\u001b[0;34m(\u001b[0m\u001b[0mis_training\u001b[0m\u001b[0;34m)\u001b[0m\u001b[0;34m:\u001b[0m\u001b[0;34m\u001b[0m\u001b[0;34m\u001b[0m\u001b[0m\n\u001b[0;32m---> 62\u001b[0;31m             \u001b[0mlogits\u001b[0m \u001b[0;34m=\u001b[0m \u001b[0mforward\u001b[0m\u001b[0;34m(\u001b[0m\u001b[0mmodel\u001b[0m\u001b[0;34m,\u001b[0m \u001b[0minputs\u001b[0m\u001b[0;34m)\u001b[0m\u001b[0;34m\u001b[0m\u001b[0;34m\u001b[0m\u001b[0m\n\u001b[0m\u001b[1;32m     63\u001b[0m             \u001b[0mprobabilities\u001b[0m \u001b[0;34m=\u001b[0m \u001b[0mF\u001b[0m\u001b[0;34m.\u001b[0m\u001b[0msoftmax\u001b[0m\u001b[0;34m(\u001b[0m\u001b[0mlogits\u001b[0m\u001b[0;34m,\u001b[0m \u001b[0mdim\u001b[0m\u001b[0;34m=\u001b[0m\u001b[0mCHANNELS_DIMENSION\u001b[0m\u001b[0;34m)\u001b[0m\u001b[0;34m\u001b[0m\u001b[0;34m\u001b[0m\u001b[0m\n\u001b[1;32m     64\u001b[0m             \u001b[0mbatch_losses\u001b[0m \u001b[0;34m=\u001b[0m \u001b[0mget_dice_loss\u001b[0m\u001b[0;34m(\u001b[0m\u001b[0mprobabilities\u001b[0m\u001b[0;34m,\u001b[0m \u001b[0mtargets\u001b[0m\u001b[0;34m)\u001b[0m\u001b[0;34m\u001b[0m\u001b[0;34m\u001b[0m\u001b[0m\n",
      "\u001b[0;32m<ipython-input-33-16a700ab6e35>\u001b[0m in \u001b[0;36mforward\u001b[0;34m(model, inputs)\u001b[0m\n\u001b[1;32m     33\u001b[0m     \u001b[0;32mwith\u001b[0m \u001b[0mwarnings\u001b[0m\u001b[0;34m.\u001b[0m\u001b[0mcatch_warnings\u001b[0m\u001b[0;34m(\u001b[0m\u001b[0;34m)\u001b[0m\u001b[0;34m:\u001b[0m\u001b[0;34m\u001b[0m\u001b[0;34m\u001b[0m\u001b[0m\n\u001b[1;32m     34\u001b[0m         \u001b[0mwarnings\u001b[0m\u001b[0;34m.\u001b[0m\u001b[0mfilterwarnings\u001b[0m\u001b[0;34m(\u001b[0m\u001b[0;34m\"ignore\"\u001b[0m\u001b[0;34m,\u001b[0m \u001b[0mcategory\u001b[0m\u001b[0;34m=\u001b[0m\u001b[0mUserWarning\u001b[0m\u001b[0;34m)\u001b[0m\u001b[0;34m\u001b[0m\u001b[0;34m\u001b[0m\u001b[0m\n\u001b[0;32m---> 35\u001b[0;31m         \u001b[0mlogits\u001b[0m \u001b[0;34m=\u001b[0m \u001b[0mmodel\u001b[0m\u001b[0;34m(\u001b[0m\u001b[0minputs\u001b[0m\u001b[0;34m)\u001b[0m\u001b[0;34m\u001b[0m\u001b[0;34m\u001b[0m\u001b[0m\n\u001b[0m\u001b[1;32m     36\u001b[0m     \u001b[0;32mreturn\u001b[0m \u001b[0mlogits\u001b[0m\u001b[0;34m\u001b[0m\u001b[0;34m\u001b[0m\u001b[0m\n\u001b[1;32m     37\u001b[0m \u001b[0;34m\u001b[0m\u001b[0m\n",
      "\u001b[0;32m~/.conda/envs/BMEN4460/lib/python3.7/site-packages/torch/nn/modules/module.py\u001b[0m in \u001b[0;36m__call__\u001b[0;34m(self, *input, **kwargs)\u001b[0m\n\u001b[1;32m    530\u001b[0m             \u001b[0mresult\u001b[0m \u001b[0;34m=\u001b[0m \u001b[0mself\u001b[0m\u001b[0;34m.\u001b[0m\u001b[0m_slow_forward\u001b[0m\u001b[0;34m(\u001b[0m\u001b[0;34m*\u001b[0m\u001b[0minput\u001b[0m\u001b[0;34m,\u001b[0m \u001b[0;34m**\u001b[0m\u001b[0mkwargs\u001b[0m\u001b[0;34m)\u001b[0m\u001b[0;34m\u001b[0m\u001b[0;34m\u001b[0m\u001b[0m\n\u001b[1;32m    531\u001b[0m         \u001b[0;32melse\u001b[0m\u001b[0;34m:\u001b[0m\u001b[0;34m\u001b[0m\u001b[0;34m\u001b[0m\u001b[0m\n\u001b[0;32m--> 532\u001b[0;31m             \u001b[0mresult\u001b[0m \u001b[0;34m=\u001b[0m \u001b[0mself\u001b[0m\u001b[0;34m.\u001b[0m\u001b[0mforward\u001b[0m\u001b[0;34m(\u001b[0m\u001b[0;34m*\u001b[0m\u001b[0minput\u001b[0m\u001b[0;34m,\u001b[0m \u001b[0;34m**\u001b[0m\u001b[0mkwargs\u001b[0m\u001b[0;34m)\u001b[0m\u001b[0;34m\u001b[0m\u001b[0;34m\u001b[0m\u001b[0m\n\u001b[0m\u001b[1;32m    533\u001b[0m         \u001b[0;32mfor\u001b[0m \u001b[0mhook\u001b[0m \u001b[0;32min\u001b[0m \u001b[0mself\u001b[0m\u001b[0;34m.\u001b[0m\u001b[0m_forward_hooks\u001b[0m\u001b[0;34m.\u001b[0m\u001b[0mvalues\u001b[0m\u001b[0;34m(\u001b[0m\u001b[0;34m)\u001b[0m\u001b[0;34m:\u001b[0m\u001b[0;34m\u001b[0m\u001b[0;34m\u001b[0m\u001b[0m\n\u001b[1;32m    534\u001b[0m             \u001b[0mhook_result\u001b[0m \u001b[0;34m=\u001b[0m \u001b[0mhook\u001b[0m\u001b[0;34m(\u001b[0m\u001b[0mself\u001b[0m\u001b[0;34m,\u001b[0m \u001b[0minput\u001b[0m\u001b[0;34m,\u001b[0m \u001b[0mresult\u001b[0m\u001b[0;34m)\u001b[0m\u001b[0;34m\u001b[0m\u001b[0;34m\u001b[0m\u001b[0m\n",
      "\u001b[0;32m~/.conda/envs/BMEN4460/lib/python3.7/site-packages/unet/unet.py\u001b[0m in \u001b[0;36mforward\u001b[0;34m(self, x)\u001b[0m\n\u001b[1;32m    120\u001b[0m         \u001b[0mskip_connections\u001b[0m\u001b[0;34m,\u001b[0m \u001b[0mencoding\u001b[0m \u001b[0;34m=\u001b[0m \u001b[0mself\u001b[0m\u001b[0;34m.\u001b[0m\u001b[0mencoder\u001b[0m\u001b[0;34m(\u001b[0m\u001b[0mx\u001b[0m\u001b[0;34m)\u001b[0m\u001b[0;34m\u001b[0m\u001b[0;34m\u001b[0m\u001b[0m\n\u001b[1;32m    121\u001b[0m         \u001b[0mencoding\u001b[0m \u001b[0;34m=\u001b[0m \u001b[0mself\u001b[0m\u001b[0;34m.\u001b[0m\u001b[0mbottom_block\u001b[0m\u001b[0;34m(\u001b[0m\u001b[0mencoding\u001b[0m\u001b[0;34m)\u001b[0m\u001b[0;34m\u001b[0m\u001b[0;34m\u001b[0m\u001b[0m\n\u001b[0;32m--> 122\u001b[0;31m         \u001b[0mx\u001b[0m \u001b[0;34m=\u001b[0m \u001b[0mself\u001b[0m\u001b[0;34m.\u001b[0m\u001b[0mdecoder\u001b[0m\u001b[0;34m(\u001b[0m\u001b[0mskip_connections\u001b[0m\u001b[0;34m,\u001b[0m \u001b[0mencoding\u001b[0m\u001b[0;34m)\u001b[0m\u001b[0;34m\u001b[0m\u001b[0;34m\u001b[0m\u001b[0m\n\u001b[0m\u001b[1;32m    123\u001b[0m         \u001b[0;32mif\u001b[0m \u001b[0mself\u001b[0m\u001b[0;34m.\u001b[0m\u001b[0mmonte_carlo_layer\u001b[0m \u001b[0;32mis\u001b[0m \u001b[0;32mnot\u001b[0m \u001b[0;32mNone\u001b[0m\u001b[0;34m:\u001b[0m\u001b[0;34m\u001b[0m\u001b[0;34m\u001b[0m\u001b[0m\n\u001b[1;32m    124\u001b[0m             \u001b[0mx\u001b[0m \u001b[0;34m=\u001b[0m \u001b[0mself\u001b[0m\u001b[0;34m.\u001b[0m\u001b[0mmonte_carlo_layer\u001b[0m\u001b[0;34m(\u001b[0m\u001b[0mx\u001b[0m\u001b[0;34m)\u001b[0m\u001b[0;34m\u001b[0m\u001b[0;34m\u001b[0m\u001b[0m\n",
      "\u001b[0;32m~/.conda/envs/BMEN4460/lib/python3.7/site-packages/torch/nn/modules/module.py\u001b[0m in \u001b[0;36m__call__\u001b[0;34m(self, *input, **kwargs)\u001b[0m\n\u001b[1;32m    530\u001b[0m             \u001b[0mresult\u001b[0m \u001b[0;34m=\u001b[0m \u001b[0mself\u001b[0m\u001b[0;34m.\u001b[0m\u001b[0m_slow_forward\u001b[0m\u001b[0;34m(\u001b[0m\u001b[0;34m*\u001b[0m\u001b[0minput\u001b[0m\u001b[0;34m,\u001b[0m \u001b[0;34m**\u001b[0m\u001b[0mkwargs\u001b[0m\u001b[0;34m)\u001b[0m\u001b[0;34m\u001b[0m\u001b[0;34m\u001b[0m\u001b[0m\n\u001b[1;32m    531\u001b[0m         \u001b[0;32melse\u001b[0m\u001b[0;34m:\u001b[0m\u001b[0;34m\u001b[0m\u001b[0;34m\u001b[0m\u001b[0m\n\u001b[0;32m--> 532\u001b[0;31m             \u001b[0mresult\u001b[0m \u001b[0;34m=\u001b[0m \u001b[0mself\u001b[0m\u001b[0;34m.\u001b[0m\u001b[0mforward\u001b[0m\u001b[0;34m(\u001b[0m\u001b[0;34m*\u001b[0m\u001b[0minput\u001b[0m\u001b[0;34m,\u001b[0m \u001b[0;34m**\u001b[0m\u001b[0mkwargs\u001b[0m\u001b[0;34m)\u001b[0m\u001b[0;34m\u001b[0m\u001b[0;34m\u001b[0m\u001b[0m\n\u001b[0m\u001b[1;32m    533\u001b[0m         \u001b[0;32mfor\u001b[0m \u001b[0mhook\u001b[0m \u001b[0;32min\u001b[0m \u001b[0mself\u001b[0m\u001b[0;34m.\u001b[0m\u001b[0m_forward_hooks\u001b[0m\u001b[0;34m.\u001b[0m\u001b[0mvalues\u001b[0m\u001b[0;34m(\u001b[0m\u001b[0;34m)\u001b[0m\u001b[0;34m:\u001b[0m\u001b[0;34m\u001b[0m\u001b[0;34m\u001b[0m\u001b[0m\n\u001b[1;32m    534\u001b[0m             \u001b[0mhook_result\u001b[0m \u001b[0;34m=\u001b[0m \u001b[0mhook\u001b[0m\u001b[0;34m(\u001b[0m\u001b[0mself\u001b[0m\u001b[0;34m,\u001b[0m \u001b[0minput\u001b[0m\u001b[0;34m,\u001b[0m \u001b[0mresult\u001b[0m\u001b[0;34m)\u001b[0m\u001b[0;34m\u001b[0m\u001b[0;34m\u001b[0m\u001b[0m\n",
      "\u001b[0;32m~/.conda/envs/BMEN4460/lib/python3.7/site-packages/unet/decoding.py\u001b[0m in \u001b[0;36mforward\u001b[0;34m(self, skip_connections, x)\u001b[0m\n\u001b[1;32m     59\u001b[0m         \u001b[0mzipped\u001b[0m \u001b[0;34m=\u001b[0m \u001b[0mzip\u001b[0m\u001b[0;34m(\u001b[0m\u001b[0mreversed\u001b[0m\u001b[0;34m(\u001b[0m\u001b[0mskip_connections\u001b[0m\u001b[0;34m)\u001b[0m\u001b[0;34m,\u001b[0m \u001b[0mself\u001b[0m\u001b[0;34m.\u001b[0m\u001b[0mdecoding_blocks\u001b[0m\u001b[0;34m)\u001b[0m\u001b[0;34m\u001b[0m\u001b[0;34m\u001b[0m\u001b[0m\n\u001b[1;32m     60\u001b[0m         \u001b[0;32mfor\u001b[0m \u001b[0mskip_connection\u001b[0m\u001b[0;34m,\u001b[0m \u001b[0mdecoding_block\u001b[0m \u001b[0;32min\u001b[0m \u001b[0mzipped\u001b[0m\u001b[0;34m:\u001b[0m\u001b[0;34m\u001b[0m\u001b[0;34m\u001b[0m\u001b[0m\n\u001b[0;32m---> 61\u001b[0;31m             \u001b[0mx\u001b[0m \u001b[0;34m=\u001b[0m \u001b[0mdecoding_block\u001b[0m\u001b[0;34m(\u001b[0m\u001b[0mskip_connection\u001b[0m\u001b[0;34m,\u001b[0m \u001b[0mx\u001b[0m\u001b[0;34m)\u001b[0m\u001b[0;34m\u001b[0m\u001b[0;34m\u001b[0m\u001b[0m\n\u001b[0m\u001b[1;32m     62\u001b[0m         \u001b[0;32mreturn\u001b[0m \u001b[0mx\u001b[0m\u001b[0;34m\u001b[0m\u001b[0;34m\u001b[0m\u001b[0m\n\u001b[1;32m     63\u001b[0m \u001b[0;34m\u001b[0m\u001b[0m\n",
      "\u001b[0;32m~/.conda/envs/BMEN4460/lib/python3.7/site-packages/torch/nn/modules/module.py\u001b[0m in \u001b[0;36m__call__\u001b[0;34m(self, *input, **kwargs)\u001b[0m\n\u001b[1;32m    530\u001b[0m             \u001b[0mresult\u001b[0m \u001b[0;34m=\u001b[0m \u001b[0mself\u001b[0m\u001b[0;34m.\u001b[0m\u001b[0m_slow_forward\u001b[0m\u001b[0;34m(\u001b[0m\u001b[0;34m*\u001b[0m\u001b[0minput\u001b[0m\u001b[0;34m,\u001b[0m \u001b[0;34m**\u001b[0m\u001b[0mkwargs\u001b[0m\u001b[0;34m)\u001b[0m\u001b[0;34m\u001b[0m\u001b[0;34m\u001b[0m\u001b[0m\n\u001b[1;32m    531\u001b[0m         \u001b[0;32melse\u001b[0m\u001b[0;34m:\u001b[0m\u001b[0;34m\u001b[0m\u001b[0;34m\u001b[0m\u001b[0m\n\u001b[0;32m--> 532\u001b[0;31m             \u001b[0mresult\u001b[0m \u001b[0;34m=\u001b[0m \u001b[0mself\u001b[0m\u001b[0;34m.\u001b[0m\u001b[0mforward\u001b[0m\u001b[0;34m(\u001b[0m\u001b[0;34m*\u001b[0m\u001b[0minput\u001b[0m\u001b[0;34m,\u001b[0m \u001b[0;34m**\u001b[0m\u001b[0mkwargs\u001b[0m\u001b[0;34m)\u001b[0m\u001b[0;34m\u001b[0m\u001b[0;34m\u001b[0m\u001b[0m\n\u001b[0m\u001b[1;32m    533\u001b[0m         \u001b[0;32mfor\u001b[0m \u001b[0mhook\u001b[0m \u001b[0;32min\u001b[0m \u001b[0mself\u001b[0m\u001b[0;34m.\u001b[0m\u001b[0m_forward_hooks\u001b[0m\u001b[0;34m.\u001b[0m\u001b[0mvalues\u001b[0m\u001b[0;34m(\u001b[0m\u001b[0;34m)\u001b[0m\u001b[0;34m:\u001b[0m\u001b[0;34m\u001b[0m\u001b[0;34m\u001b[0m\u001b[0m\n\u001b[1;32m    534\u001b[0m             \u001b[0mhook_result\u001b[0m \u001b[0;34m=\u001b[0m \u001b[0mhook\u001b[0m\u001b[0;34m(\u001b[0m\u001b[0mself\u001b[0m\u001b[0;34m,\u001b[0m \u001b[0minput\u001b[0m\u001b[0;34m,\u001b[0m \u001b[0mresult\u001b[0m\u001b[0;34m)\u001b[0m\u001b[0;34m\u001b[0m\u001b[0;34m\u001b[0m\u001b[0m\n",
      "\u001b[0;32m~/.conda/envs/BMEN4460/lib/python3.7/site-packages/unet/decoding.py\u001b[0m in \u001b[0;36mforward\u001b[0;34m(self, skip_connection, x)\u001b[0m\n\u001b[1;32m    137\u001b[0m         \u001b[0;32melse\u001b[0m\u001b[0;34m:\u001b[0m\u001b[0;34m\u001b[0m\u001b[0;34m\u001b[0m\u001b[0m\n\u001b[1;32m    138\u001b[0m             \u001b[0mx\u001b[0m \u001b[0;34m=\u001b[0m \u001b[0mself\u001b[0m\u001b[0;34m.\u001b[0m\u001b[0mconv1\u001b[0m\u001b[0;34m(\u001b[0m\u001b[0mx\u001b[0m\u001b[0;34m)\u001b[0m\u001b[0;34m\u001b[0m\u001b[0;34m\u001b[0m\u001b[0m\n\u001b[0;32m--> 139\u001b[0;31m             \u001b[0mx\u001b[0m \u001b[0;34m=\u001b[0m \u001b[0mself\u001b[0m\u001b[0;34m.\u001b[0m\u001b[0mconv2\u001b[0m\u001b[0;34m(\u001b[0m\u001b[0mx\u001b[0m\u001b[0;34m)\u001b[0m\u001b[0;34m\u001b[0m\u001b[0;34m\u001b[0m\u001b[0m\n\u001b[0m\u001b[1;32m    140\u001b[0m         \u001b[0;32mreturn\u001b[0m \u001b[0mx\u001b[0m\u001b[0;34m\u001b[0m\u001b[0;34m\u001b[0m\u001b[0m\n\u001b[1;32m    141\u001b[0m \u001b[0;34m\u001b[0m\u001b[0m\n",
      "\u001b[0;32m~/.conda/envs/BMEN4460/lib/python3.7/site-packages/torch/nn/modules/module.py\u001b[0m in \u001b[0;36m__call__\u001b[0;34m(self, *input, **kwargs)\u001b[0m\n\u001b[1;32m    530\u001b[0m             \u001b[0mresult\u001b[0m \u001b[0;34m=\u001b[0m \u001b[0mself\u001b[0m\u001b[0;34m.\u001b[0m\u001b[0m_slow_forward\u001b[0m\u001b[0;34m(\u001b[0m\u001b[0;34m*\u001b[0m\u001b[0minput\u001b[0m\u001b[0;34m,\u001b[0m \u001b[0;34m**\u001b[0m\u001b[0mkwargs\u001b[0m\u001b[0;34m)\u001b[0m\u001b[0;34m\u001b[0m\u001b[0;34m\u001b[0m\u001b[0m\n\u001b[1;32m    531\u001b[0m         \u001b[0;32melse\u001b[0m\u001b[0;34m:\u001b[0m\u001b[0;34m\u001b[0m\u001b[0;34m\u001b[0m\u001b[0m\n\u001b[0;32m--> 532\u001b[0;31m             \u001b[0mresult\u001b[0m \u001b[0;34m=\u001b[0m \u001b[0mself\u001b[0m\u001b[0;34m.\u001b[0m\u001b[0mforward\u001b[0m\u001b[0;34m(\u001b[0m\u001b[0;34m*\u001b[0m\u001b[0minput\u001b[0m\u001b[0;34m,\u001b[0m \u001b[0;34m**\u001b[0m\u001b[0mkwargs\u001b[0m\u001b[0;34m)\u001b[0m\u001b[0;34m\u001b[0m\u001b[0;34m\u001b[0m\u001b[0m\n\u001b[0m\u001b[1;32m    533\u001b[0m         \u001b[0;32mfor\u001b[0m \u001b[0mhook\u001b[0m \u001b[0;32min\u001b[0m \u001b[0mself\u001b[0m\u001b[0;34m.\u001b[0m\u001b[0m_forward_hooks\u001b[0m\u001b[0;34m.\u001b[0m\u001b[0mvalues\u001b[0m\u001b[0;34m(\u001b[0m\u001b[0;34m)\u001b[0m\u001b[0;34m:\u001b[0m\u001b[0;34m\u001b[0m\u001b[0;34m\u001b[0m\u001b[0m\n\u001b[1;32m    534\u001b[0m             \u001b[0mhook_result\u001b[0m \u001b[0;34m=\u001b[0m \u001b[0mhook\u001b[0m\u001b[0;34m(\u001b[0m\u001b[0mself\u001b[0m\u001b[0;34m,\u001b[0m \u001b[0minput\u001b[0m\u001b[0;34m,\u001b[0m \u001b[0mresult\u001b[0m\u001b[0;34m)\u001b[0m\u001b[0;34m\u001b[0m\u001b[0;34m\u001b[0m\u001b[0m\n",
      "\u001b[0;32m~/.conda/envs/BMEN4460/lib/python3.7/site-packages/unet/conv.py\u001b[0m in \u001b[0;36mforward\u001b[0;34m(self, x)\u001b[0m\n\u001b[1;32m     75\u001b[0m \u001b[0;34m\u001b[0m\u001b[0m\n\u001b[1;32m     76\u001b[0m     \u001b[0;32mdef\u001b[0m \u001b[0mforward\u001b[0m\u001b[0;34m(\u001b[0m\u001b[0mself\u001b[0m\u001b[0;34m,\u001b[0m \u001b[0mx\u001b[0m\u001b[0;34m)\u001b[0m\u001b[0;34m:\u001b[0m\u001b[0;34m\u001b[0m\u001b[0;34m\u001b[0m\u001b[0m\n\u001b[0;32m---> 77\u001b[0;31m         \u001b[0;32mreturn\u001b[0m \u001b[0mself\u001b[0m\u001b[0;34m.\u001b[0m\u001b[0mblock\u001b[0m\u001b[0;34m(\u001b[0m\u001b[0mx\u001b[0m\u001b[0;34m)\u001b[0m\u001b[0;34m\u001b[0m\u001b[0;34m\u001b[0m\u001b[0m\n\u001b[0m\u001b[1;32m     78\u001b[0m \u001b[0;34m\u001b[0m\u001b[0m\n\u001b[1;32m     79\u001b[0m     \u001b[0;34m@\u001b[0m\u001b[0mstaticmethod\u001b[0m\u001b[0;34m\u001b[0m\u001b[0;34m\u001b[0m\u001b[0m\n",
      "\u001b[0;32m~/.conda/envs/BMEN4460/lib/python3.7/site-packages/torch/nn/modules/module.py\u001b[0m in \u001b[0;36m__call__\u001b[0;34m(self, *input, **kwargs)\u001b[0m\n\u001b[1;32m    530\u001b[0m             \u001b[0mresult\u001b[0m \u001b[0;34m=\u001b[0m \u001b[0mself\u001b[0m\u001b[0;34m.\u001b[0m\u001b[0m_slow_forward\u001b[0m\u001b[0;34m(\u001b[0m\u001b[0;34m*\u001b[0m\u001b[0minput\u001b[0m\u001b[0;34m,\u001b[0m \u001b[0;34m**\u001b[0m\u001b[0mkwargs\u001b[0m\u001b[0;34m)\u001b[0m\u001b[0;34m\u001b[0m\u001b[0;34m\u001b[0m\u001b[0m\n\u001b[1;32m    531\u001b[0m         \u001b[0;32melse\u001b[0m\u001b[0;34m:\u001b[0m\u001b[0;34m\u001b[0m\u001b[0;34m\u001b[0m\u001b[0m\n\u001b[0;32m--> 532\u001b[0;31m             \u001b[0mresult\u001b[0m \u001b[0;34m=\u001b[0m \u001b[0mself\u001b[0m\u001b[0;34m.\u001b[0m\u001b[0mforward\u001b[0m\u001b[0;34m(\u001b[0m\u001b[0;34m*\u001b[0m\u001b[0minput\u001b[0m\u001b[0;34m,\u001b[0m \u001b[0;34m**\u001b[0m\u001b[0mkwargs\u001b[0m\u001b[0;34m)\u001b[0m\u001b[0;34m\u001b[0m\u001b[0;34m\u001b[0m\u001b[0m\n\u001b[0m\u001b[1;32m    533\u001b[0m         \u001b[0;32mfor\u001b[0m \u001b[0mhook\u001b[0m \u001b[0;32min\u001b[0m \u001b[0mself\u001b[0m\u001b[0;34m.\u001b[0m\u001b[0m_forward_hooks\u001b[0m\u001b[0;34m.\u001b[0m\u001b[0mvalues\u001b[0m\u001b[0;34m(\u001b[0m\u001b[0;34m)\u001b[0m\u001b[0;34m:\u001b[0m\u001b[0;34m\u001b[0m\u001b[0;34m\u001b[0m\u001b[0m\n\u001b[1;32m    534\u001b[0m             \u001b[0mhook_result\u001b[0m \u001b[0;34m=\u001b[0m \u001b[0mhook\u001b[0m\u001b[0;34m(\u001b[0m\u001b[0mself\u001b[0m\u001b[0;34m,\u001b[0m \u001b[0minput\u001b[0m\u001b[0;34m,\u001b[0m \u001b[0mresult\u001b[0m\u001b[0;34m)\u001b[0m\u001b[0;34m\u001b[0m\u001b[0;34m\u001b[0m\u001b[0m\n",
      "\u001b[0;32m~/.conda/envs/BMEN4460/lib/python3.7/site-packages/torch/nn/modules/container.py\u001b[0m in \u001b[0;36mforward\u001b[0;34m(self, input)\u001b[0m\n\u001b[1;32m     98\u001b[0m     \u001b[0;32mdef\u001b[0m \u001b[0mforward\u001b[0m\u001b[0;34m(\u001b[0m\u001b[0mself\u001b[0m\u001b[0;34m,\u001b[0m \u001b[0minput\u001b[0m\u001b[0;34m)\u001b[0m\u001b[0;34m:\u001b[0m\u001b[0;34m\u001b[0m\u001b[0;34m\u001b[0m\u001b[0m\n\u001b[1;32m     99\u001b[0m         \u001b[0;32mfor\u001b[0m \u001b[0mmodule\u001b[0m \u001b[0;32min\u001b[0m \u001b[0mself\u001b[0m\u001b[0;34m:\u001b[0m\u001b[0;34m\u001b[0m\u001b[0;34m\u001b[0m\u001b[0m\n\u001b[0;32m--> 100\u001b[0;31m             \u001b[0minput\u001b[0m \u001b[0;34m=\u001b[0m \u001b[0mmodule\u001b[0m\u001b[0;34m(\u001b[0m\u001b[0minput\u001b[0m\u001b[0;34m)\u001b[0m\u001b[0;34m\u001b[0m\u001b[0;34m\u001b[0m\u001b[0m\n\u001b[0m\u001b[1;32m    101\u001b[0m         \u001b[0;32mreturn\u001b[0m \u001b[0minput\u001b[0m\u001b[0;34m\u001b[0m\u001b[0;34m\u001b[0m\u001b[0m\n\u001b[1;32m    102\u001b[0m \u001b[0;34m\u001b[0m\u001b[0m\n",
      "\u001b[0;32m~/.conda/envs/BMEN4460/lib/python3.7/site-packages/torch/nn/modules/module.py\u001b[0m in \u001b[0;36m__call__\u001b[0;34m(self, *input, **kwargs)\u001b[0m\n\u001b[1;32m    530\u001b[0m             \u001b[0mresult\u001b[0m \u001b[0;34m=\u001b[0m \u001b[0mself\u001b[0m\u001b[0;34m.\u001b[0m\u001b[0m_slow_forward\u001b[0m\u001b[0;34m(\u001b[0m\u001b[0;34m*\u001b[0m\u001b[0minput\u001b[0m\u001b[0;34m,\u001b[0m \u001b[0;34m**\u001b[0m\u001b[0mkwargs\u001b[0m\u001b[0;34m)\u001b[0m\u001b[0;34m\u001b[0m\u001b[0;34m\u001b[0m\u001b[0m\n\u001b[1;32m    531\u001b[0m         \u001b[0;32melse\u001b[0m\u001b[0;34m:\u001b[0m\u001b[0;34m\u001b[0m\u001b[0;34m\u001b[0m\u001b[0m\n\u001b[0;32m--> 532\u001b[0;31m             \u001b[0mresult\u001b[0m \u001b[0;34m=\u001b[0m \u001b[0mself\u001b[0m\u001b[0;34m.\u001b[0m\u001b[0mforward\u001b[0m\u001b[0;34m(\u001b[0m\u001b[0;34m*\u001b[0m\u001b[0minput\u001b[0m\u001b[0;34m,\u001b[0m \u001b[0;34m**\u001b[0m\u001b[0mkwargs\u001b[0m\u001b[0;34m)\u001b[0m\u001b[0;34m\u001b[0m\u001b[0;34m\u001b[0m\u001b[0m\n\u001b[0m\u001b[1;32m    533\u001b[0m         \u001b[0;32mfor\u001b[0m \u001b[0mhook\u001b[0m \u001b[0;32min\u001b[0m \u001b[0mself\u001b[0m\u001b[0;34m.\u001b[0m\u001b[0m_forward_hooks\u001b[0m\u001b[0;34m.\u001b[0m\u001b[0mvalues\u001b[0m\u001b[0;34m(\u001b[0m\u001b[0;34m)\u001b[0m\u001b[0;34m:\u001b[0m\u001b[0;34m\u001b[0m\u001b[0;34m\u001b[0m\u001b[0m\n\u001b[1;32m    534\u001b[0m             \u001b[0mhook_result\u001b[0m \u001b[0;34m=\u001b[0m \u001b[0mhook\u001b[0m\u001b[0;34m(\u001b[0m\u001b[0mself\u001b[0m\u001b[0;34m,\u001b[0m \u001b[0minput\u001b[0m\u001b[0;34m,\u001b[0m \u001b[0mresult\u001b[0m\u001b[0;34m)\u001b[0m\u001b[0;34m\u001b[0m\u001b[0;34m\u001b[0m\u001b[0m\n",
      "\u001b[0;32m~/.conda/envs/BMEN4460/lib/python3.7/site-packages/torch/nn/modules/conv.py\u001b[0m in \u001b[0;36mforward\u001b[0;34m(self, input)\u001b[0m\n\u001b[1;32m    478\u001b[0m                             self.dilation, self.groups)\n\u001b[1;32m    479\u001b[0m         return F.conv3d(input, self.weight, self.bias, self.stride,\n\u001b[0;32m--> 480\u001b[0;31m                         self.padding, self.dilation, self.groups)\n\u001b[0m\u001b[1;32m    481\u001b[0m \u001b[0;34m\u001b[0m\u001b[0m\n\u001b[1;32m    482\u001b[0m \u001b[0;34m\u001b[0m\u001b[0m\n",
      "\u001b[0;31mRuntimeError\u001b[0m: [enforce fail at CPUAllocator.cpp:64] . DefaultCPUAllocator: can't allocate memory: you tried to allocate 3822059520 bytes. Error code 12 (Cannot allocate memory)\n"
     ]
    }
   ],
   "source": [
    "# Train, wait for local server or GPU available\n",
    "\n",
    "model, optimizer = get_model_and_optimizer(device)\n",
    "\n",
    "weights_stem = 'whole_images'\n",
    "train(num_epochs, training_loader, validation_loader, model, optimizer, weights_stem)"
   ]
  },
  {
   "cell_type": "markdown",
   "metadata": {},
   "source": [
    "# 4. Data Augmentation with GAN"
   ]
  }
 ],
 "metadata": {
  "kernelspec": {
   "display_name": "Python3.7 BMEN4460",
   "language": "python",
   "name": "bmen4460"
  },
  "language_info": {
   "codemirror_mode": {
    "name": "ipython",
    "version": 3
   },
   "file_extension": ".py",
   "mimetype": "text/x-python",
   "name": "python",
   "nbconvert_exporter": "python",
   "pygments_lexer": "ipython3",
   "version": "3.7.7"
  }
 },
 "nbformat": 4,
 "nbformat_minor": 4
}
