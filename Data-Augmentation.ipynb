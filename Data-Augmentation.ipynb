{
 "cells": [
  {
   "cell_type": "markdown",
   "metadata": {},
   "source": [
    "# Data Augmentation for brain tumor segmentation\n",
    "\n",
    "## Qimin Zhang and Weiwei Qi"
   ]
  },
  {
   "cell_type": "markdown",
   "metadata": {},
   "source": [
    "## 1. Config"
   ]
  },
  {
   "cell_type": "code",
   "execution_count": 14,
   "metadata": {},
   "outputs": [
    {
     "name": "stdout",
     "output_type": "stream",
     "text": [
      "TorchIO version: 0.13.24\n"
     ]
    }
   ],
   "source": [
    "import copy\n",
    "import enum\n",
    "import random\n",
    "import warnings\n",
    "import tempfile\n",
    "import subprocess\n",
    "import multiprocessing\n",
    "from pathlib import Path\n",
    "\n",
    "import torch\n",
    "import torch.nn.functional as F\n",
    "from torchvision.transforms import Compose\n",
    "from torchvision.utils import make_grid, save_image\n",
    "\n",
    "import torchio\n",
    "from torchio import AFFINE, DATA, PATH, TYPE, STEM\n",
    "\n",
    "import numpy as np\n",
    "import nibabel as nib\n",
    "from unet import UNet\n",
    "from scipy import stats\n",
    "import SimpleITK as sitk\n",
    "import matplotlib.pyplot as plt\n",
    "\n",
    "from IPython import display\n",
    "from tqdm.notebook import tqdm\n",
    "\n",
    "print('TorchIO version:', torchio.__version__)\n",
    "\n",
    "torch.manual_seed(4460)\n",
    "np.random.seed(4460)"
   ]
  },
  {
   "cell_type": "code",
   "execution_count": 7,
   "metadata": {},
   "outputs": [],
   "source": [
    "# Some visualization functions\n",
    "\n",
    "def show_nifti(image_path_or_image, colormap='gray'):\n",
    "    try:\n",
    "        from niwidgets import NiftiWidget\n",
    "        with warnings.catch_warnings():\n",
    "            warnings.filterwarnings(\"ignore\", category=FutureWarning)\n",
    "            widget = NiftiWidget(image_path_or_image)\n",
    "            widget.nifti_plotter(colormap=colormap)\n",
    "    except Exception:\n",
    "        if isinstance(image_path_or_image, nib.AnalyzeImage):\n",
    "            nii = image_path_or_image\n",
    "        else:\n",
    "            image_path = image_path_or_image\n",
    "            nii = nib.load(str(image_path))\n",
    "        k = int(nii.shape[-1] / 2)\n",
    "        plt.imshow(nii.dataobj[..., k], cmap=colormap)\n",
    "\n",
    "def show_sample(sample, image_name, label_name=None):\n",
    "    if label_name is not None:\n",
    "        sample = copy.deepcopy(sample)\n",
    "        affine = sample[label_name][AFFINE]\n",
    "        label = sample[label_name][DATA][0].numpy().astype(np.uint8)\n",
    "        label_image = torchio.utils.nib_to_sitk(label, affine)\n",
    "        border = sitk.BinaryContour(label_image)\n",
    "        border_array, _ = torchio.utils.sitk_to_nib(border)\n",
    "        border_tensor = torch.from_numpy(border_array)\n",
    "        image_tensor = sample[image_name][DATA][0]\n",
    "        image_tensor[border_tensor > 0.5] = image_tensor.max()\n",
    "    with tempfile.NamedTemporaryFile(suffix='.nii') as f:\n",
    "        torchio.ImagesDataset.save_sample(sample, {image_name: f.name})\n",
    "        show_nifti(f.name)\n",
    "\n",
    "def plot_histogram(axis, tensor, num_positions=100, label=None, alpha=0.05, color=None):\n",
    "    values = tensor.numpy().ravel()\n",
    "    kernel = stats.gaussian_kde(values)\n",
    "    positions = np.linspace(values.min(), values.max(), num=num_positions)\n",
    "    histogram = kernel(positions)\n",
    "    kwargs = dict(linewidth=1, color='black' if color is None else color, alpha=alpha)\n",
    "    if label is not None:\n",
    "        kwargs['label'] = label\n",
    "    axis.plot(positions, histogram, **kwargs)"
   ]
  },
  {
   "cell_type": "markdown",
   "metadata": {},
   "source": [
    "## 2. Convert Nifti to Numpy"
   ]
  },
  {
   "cell_type": "code",
   "execution_count": 2,
   "metadata": {},
   "outputs": [
    {
     "name": "stdout",
     "output_type": "stream",
     "text": [
      "Folder already exists, so I did not create any numpy from t1.\n",
      "Folder already exists, so I did not create any numpy from t1 contrast.\n",
      "Folder already exists, so I did not create any numpy from tumors.\n",
      "Folder already exists, so I did not create any numpy from brain masks.\n",
      "All conversion done.\n"
     ]
    }
   ],
   "source": [
    "dataPath = './data'\n",
    "\n",
    "\n",
    "t1_path = os.path.join(dataPath, 'all_gbm_pre_reg')\n",
    "t1_contrast_path = os.path.join(dataPath, 'all_gbm_post_reg')\n",
    "tumor_path = os.path.join(dataPath, 'all_tumors_reg')\n",
    "brain_mask_path = os.path.join(dataPath, 'brain_masks')\n",
    "\n",
    "\n",
    "t1_path = os.path.join(dataPath, 'all_gbm_pre_reg')\n",
    "t1_contrast_path = os.path.join(dataPath, 'all_gbm_post_reg')\n",
    "tumor_path = os.path.join(dataPath, 'all_tumors_reg')\n",
    "brain_mask_path = os.path.join(dataPath, 'brain_masks')\n",
    "\n",
    "\n",
    "imgPaths = os.listdir(t1_path)\n",
    "t1_locations = []\n",
    "for path in imgPaths:\n",
    "    if path.endswith('.nii.gz'):\n",
    "        t1_locations.append(path)\n",
    "\n",
    "imgPaths = os.listdir(t1_contrast_path)\n",
    "t1_contrast_locations = []\n",
    "for path in imgPaths:\n",
    "    if path.endswith('.nii.gz'):\n",
    "        t1_contrast_locations.append(path)\n",
    "\n",
    "imgPaths = os.listdir(tumor_path)\n",
    "tumor_locations = []\n",
    "for path in imgPaths:\n",
    "    if path.endswith('.nii.gz'):\n",
    "        tumor_locations.append(path)\n",
    "        \n",
    "imgPaths = os.listdir(brain_mask_path)\n",
    "brain_mask_locations = []\n",
    "for path in imgPaths:\n",
    "    if path.endswith('.nii.gz'):\n",
    "        brain_mask_locations.append(path)\n",
    "        \n",
    "newPath = os.path.join(dataPath, 'numpyData')\n",
    "if not os.path.exists(newPath):\n",
    "    os.mkdir(newPath)\n",
    "        \n",
    "num_t1_path = os.path.join(newPath, 'num_t1')\n",
    "if os.path.exists(num_t1_path):\n",
    "    print('Folder already exists, so I did not create any numpy from t1.')\n",
    "else:\n",
    "    os.mkdir(num_t1_path)\n",
    "\n",
    "    print('I am starting to convert t1 images.')\n",
    "    path = t1_path\n",
    "    t1_progress = tqdm.tqdm(enumerate(t1_locations))\n",
    "    for i, imageLocation in t1_progress:\n",
    "        t1_progress.set_description(f\"Processing image {imageLocation}\")\n",
    "        # get the .nii image\n",
    "        imageData = nib.load(os.path.join(path,imageLocation))\n",
    "        # convert to numpy\n",
    "        numpyImage = imageData.get_data()\n",
    "        np.save(os.path.join(num_t1_path, imageLocation), numpyImage)\n",
    "        \n",
    "        \n",
    "num_t1_contrast_path = os.path.join(newPath, 'num_t1_contrast')\n",
    "if os.path.exists(num_t1_contrast_path):\n",
    "    print('Folder already exists, so I did not create any numpy from t1 contrast.')\n",
    "else:\n",
    "    os.mkdir(num_t1_contrast_path)\n",
    "\n",
    "    print('I am starting to convert t1 contrast images.')\n",
    "    path = t1_contrast_path\n",
    "    t1_contrast_progress = tqdm.tqdm(enumerate(t1_contrast_locations))\n",
    "    for i, imageLocation in t1_contrast_progress:\n",
    "        t1_contrast_progress.set_description(f\"Processing image {imageLocation}\")\n",
    "        # get the .nii image\n",
    "        imageData = nib.load(os.path.join(path,imageLocation))\n",
    "        # convert to numpy\n",
    "        numpyImage = imageData.get_data()\n",
    "        np.save(os.path.join(num_t1_contrast_path, imageLocation), numpyImage)\n",
    "        \n",
    "num_tumor_path = os.path.join(newPath, 'num_tumor')\n",
    "if os.path.exists(num_tumor_path):\n",
    "    print('Folder already exists, so I did not create any numpy from tumors.')\n",
    "else:\n",
    "    os.mkdir(num_tumor_path)\n",
    "\n",
    "    print('I am starting to convert tumor images.')\n",
    "    path = tumor_path\n",
    "    tumor_progress = tqdm.tqdm(enumerate(tumor_locations))\n",
    "    for i, imageLocation in tumor_progress:\n",
    "        tumor_progress.set_description(f\"Processing image {imageLocation}\")\n",
    "        # get the .nii image\n",
    "        imageData = nib.load(os.path.join(path,imageLocation))\n",
    "        # convert to numpy\n",
    "        numpyImage = imageData.get_data()\n",
    "        np.save(os.path.join(num_tumor_path, imageLocation), numpyImage)\n",
    "        \n",
    "num_brain_mask_path = os.path.join(newPath, 'num_brain_mask')\n",
    "if os.path.exists(num_brain_mask_path):\n",
    "    print('Folder already exists, so I did not create any numpy from brain masks.')\n",
    "else:\n",
    "    os.mkdir(num_brain_mask_path)\n",
    "\n",
    "    print('I am starting to convert brain mask images.')\n",
    "    path = brain_mask_path\n",
    "    brain_mask_progress = tqdm.tqdm(enumerate(brain_mask_locations))\n",
    "    for i, imageLocation in brain_mask_progress:\n",
    "        brain_mask_progress.set_description(f\"Processing image {imageLocation}\")\n",
    "        # get the .nii image\n",
    "        imageData = nib.load(os.path.join(path,imageLocation))\n",
    "        # convert to numpy\n",
    "        numpyImage = imageData.get_data()\n",
    "        np.save(os.path.join(num_brain_mask_path, imageLocation), numpyImage)\n",
    "\n",
    "print('All conversion done.')"
   ]
  },
  {
   "cell_type": "markdown",
   "metadata": {},
   "source": [
    "## 3. Traditional Data Augmentation with TorchIO"
   ]
  },
  {
   "cell_type": "code",
   "execution_count": 3,
   "metadata": {},
   "outputs": [
    {
     "name": "stdout",
     "output_type": "stream",
     "text": [
      "If you use TorchIO for your research, please cite the following paper:\n",
      "\n",
      "Pérez-García et al., TorchIO: a Python library for efficient loading,\n",
      "preprocessing, augmentation and patch-based sampling of medical images\n",
      "in deep learning\n",
      "(https://arxiv.org/abs/2003.04696)\n"
     ]
    }
   ],
   "source": [
    "import torchio\n",
    "from torchio.transforms import Rescale, RandomAffine\n",
    "from torchvision.transforms import Compose\n",
    "from torch.utils.data import DataLoader"
   ]
  },
  {
   "cell_type": "code",
   "execution_count": 4,
   "metadata": {},
   "outputs": [
    {
     "name": "stdout",
     "output_type": "stream",
     "text": [
      "Dataset size: 335 subjects\n"
     ]
    }
   ],
   "source": [
    "dataPath = Path('./data')\n",
    "\n",
    "t1_path = dataPath / 'all_gbm_pre_reg'\n",
    "tumor_path = dataPath / 'all_tumors_reg'\n",
    "brain_mask_path = dataPath / 'brain_masks'\n",
    "\n",
    "t1_locations = sorted(t1_path.glob('*.nii.gz'))\n",
    "tumor_locations = sorted(tumor_path.glob('*.nii.gz'))\n",
    "brain_mask_locations = sorted(brain_mask_path.glob('*.nii.gz'))\n",
    "\n",
    "\n",
    "assert len(t1_locations) == len(tumor_locations) == len(brain_mask_locations)\n",
    "\n",
    "subjects = []\n",
    "for (image_path, label_path, brain_mask_path) in zip(t1_locations, tumor_locations, brain_mask_locations):\n",
    "    subject = torchio.Subject(\n",
    "        torchio.Image('t1', image_path, torchio.INTENSITY),\n",
    "        torchio.Image('tumor', label_path, torchio.LABEL),\n",
    "        torchio.Image('brain mask', brain_mask_path, torchio.LABEL)\n",
    "    )\n",
    "    subjects.append(subject)\n",
    "    \n",
    "dataset = torchio.ImagesDataset(subjects)\n",
    "print('Dataset size:', len(dataset), 'subjects')"
   ]
  },
  {
   "cell_type": "markdown",
   "metadata": {},
   "source": [
    "### 3.1 Exploration"
   ]
  },
  {
   "cell_type": "code",
   "execution_count": 15,
   "metadata": {},
   "outputs": [
    {
     "data": {
      "image/png": "[encoded data removed]",
      "text/plain": [
       "<Figure size 432x288 with 1 Axes>"
      ]
     },
     "metadata": {
      "needs_background": "light"
     },
     "output_type": "display_data"
    }
   ],
   "source": [
    "sample = dataset[0]\n",
    "\n",
    "to_ras = torchio.transforms.ToCanonical()\n",
    "to_iso = torchio.transforms.Resample((4, 4, 4))\n",
    "ras_iso_transform = Compose([to_ras, to_iso])\n",
    "ras_iso_sample = ras_iso_transform(sample)\n",
    "show_sample(ras_iso_sample, 't1', label_name='tumor')"
   ]
  },
  {
   "cell_type": "code",
   "execution_count": 16,
   "metadata": {},
   "outputs": [
    {
     "data": {
      "image/png": "[encoded data removed]",
      "text/plain": [
       "<Figure size 432x288 with 1 Axes>"
      ]
     },
     "metadata": {
      "needs_background": "light"
     },
     "output_type": "display_data"
    }
   ],
   "source": [
    "crop_transform = torchio.transforms.Crop(cropping=(2, 2, 3, 2, 0, 4))\n",
    "transformed = crop_transform(ras_iso_sample)\n",
    "show_sample(transformed, 't1')"
   ]
  },
  {
   "cell_type": "code",
   "execution_count": 17,
   "metadata": {},
   "outputs": [],
   "source": [
    "ras_iso_crop_transform = Compose([ras_iso_transform, crop_transform])\n",
    "nicer_dataset = torchio.ImagesDataset(subjects, transform=ras_iso_crop_transform)"
   ]
  },
  {
   "cell_type": "markdown",
   "metadata": {},
   "source": [
    "### 3.2 Augmentation"
   ]
  },
  {
   "cell_type": "markdown",
   "metadata": {},
   "source": [
    "#### 3.2.1 Intensity augmentation"
   ]
  },
  {
   "cell_type": "code",
   "execution_count": null,
   "metadata": {},
   "outputs": [],
   "source": []
  },
  {
   "cell_type": "code",
   "execution_count": 20,
   "metadata": {},
   "outputs": [
    {
     "ename": "NameError",
     "evalue": "name 'seed' is not defined",
     "output_type": "error",
     "traceback": [
      "\u001b[0;31m---------------------------------------------------------------------------\u001b[0m",
      "\u001b[0;31mNameError\u001b[0m                                 Traceback (most recent call last)",
      "\u001b[0;32m<ipython-input-20-6428fec6c7b7>\u001b[0m in \u001b[0;36m<module>\u001b[0;34m\u001b[0m\n\u001b[1;32m      1\u001b[0m \u001b[0;31m# Noise\u001b[0m\u001b[0;34m\u001b[0m\u001b[0;34m\u001b[0m\u001b[0;34m\u001b[0m\u001b[0m\n\u001b[1;32m      2\u001b[0m \u001b[0;34m\u001b[0m\u001b[0m\n\u001b[0;32m----> 3\u001b[0;31m \u001b[0mnoise_transform\u001b[0m \u001b[0;34m=\u001b[0m \u001b[0mtorchio\u001b[0m\u001b[0;34m.\u001b[0m\u001b[0mtransforms\u001b[0m\u001b[0;34m.\u001b[0m\u001b[0mRandomNoise\u001b[0m\u001b[0;34m(\u001b[0m\u001b[0mstd_range\u001b[0m\u001b[0;34m=\u001b[0m\u001b[0;34m(\u001b[0m\u001b[0;36m0.5\u001b[0m\u001b[0;34m,\u001b[0m \u001b[0;36m0.5\u001b[0m\u001b[0;34m)\u001b[0m\u001b[0;34m,\u001b[0m \u001b[0mseed\u001b[0m\u001b[0;34m=\u001b[0m\u001b[0mseed\u001b[0m\u001b[0;34m)\u001b[0m\u001b[0;34m\u001b[0m\u001b[0;34m\u001b[0m\u001b[0m\n\u001b[0m\u001b[1;32m      4\u001b[0m \u001b[0mznormed\u001b[0m \u001b[0;34m=\u001b[0m \u001b[0mras_iso_transform\u001b[0m\u001b[0;34m(\u001b[0m\u001b[0mznormed\u001b[0m\u001b[0;34m)\u001b[0m\u001b[0;34m\u001b[0m\u001b[0;34m\u001b[0m\u001b[0m\n\u001b[1;32m      5\u001b[0m \u001b[0mshow_sample\u001b[0m\u001b[0;34m(\u001b[0m\u001b[0mznormed\u001b[0m\u001b[0;34m,\u001b[0m \u001b[0mMRI\u001b[0m\u001b[0;34m)\u001b[0m\u001b[0;34m\u001b[0m\u001b[0;34m\u001b[0m\u001b[0m\n",
      "\u001b[0;31mNameError\u001b[0m: name 'seed' is not defined"
     ]
    }
   ],
   "source": [
    "# Noise\n",
    "\n",
    "noise_transform = torchio.transforms.RandomNoise(std_range=(0.5, 0.5), seed=seed)\n",
    "znormed = ras_iso_transform(znormed)\n",
    "show_sample(znormed, MRI)\n",
    "transformed = noise_transform(znormed)\n",
    "show_sample(transformed, MRI)"
   ]
  },
  {
   "cell_type": "code",
   "execution_count": null,
   "metadata": {},
   "outputs": [],
   "source": []
  }
 ],
 "metadata": {
  "kernelspec": {
   "display_name": "Python3.7 BMEN4460",
   "language": "python",
   "name": "bmen4460"
  },
  "language_info": {
   "codemirror_mode": {
    "name": "ipython",
    "version": 3
   },
   "file_extension": ".py",
   "mimetype": "text/x-python",
   "name": "python",
   "nbconvert_exporter": "python",
   "pygments_lexer": "ipython3",
   "version": "3.7.6"
  }
 },
 "nbformat": 4,
 "nbformat_minor": 4
}
